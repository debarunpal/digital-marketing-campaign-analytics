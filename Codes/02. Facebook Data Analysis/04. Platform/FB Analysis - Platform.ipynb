{
 "cells": [
  {
   "cell_type": "code",
   "execution_count": 1,
   "metadata": {},
   "outputs": [],
   "source": [
    "#import libraries\n",
    "import pandas as pd\n",
    "import numpy as np\n",
    "import matplotlib.pyplot as plt\n",
    "import seaborn as sns\n",
    "sns.set(font_scale = 1.2, style = 'darkgrid')\n",
    "\n",
    "%matplotlib inline\n",
    "\n",
    "import warnings\n",
    "warnings.filterwarnings(\"ignore\")"
   ]
  },
  {
   "cell_type": "code",
   "execution_count": 2,
   "metadata": {},
   "outputs": [
    {
     "data": {
      "text/html": [
       "<style>.container { width:100% !important; }</style>"
      ],
      "text/plain": [
       "<IPython.core.display.HTML object>"
      ]
     },
     "metadata": {},
     "output_type": "display_data"
    }
   ],
   "source": [
    "#change display into using full screen\n",
    "from IPython.core.display import display, HTML\n",
    "display(HTML(\"<style>.container { width:100% !important; }</style>\"))"
   ]
  },
  {
   "cell_type": "code",
   "execution_count": 3,
   "metadata": {},
   "outputs": [],
   "source": [
    "#import .csv file\n",
    "data = pd.read_csv('FB_data_platform.csv')"
   ]
  },
  {
   "cell_type": "markdown",
   "metadata": {},
   "source": [
    "# 1. Data Exploration & Cleaning"
   ]
  },
  {
   "cell_type": "markdown",
   "metadata": {},
   "source": [
    "### 1. Have a first look at data"
   ]
  },
  {
   "cell_type": "code",
   "execution_count": 4,
   "metadata": {},
   "outputs": [
    {
     "data": {
      "text/html": [
       "<div>\n",
       "<style scoped>\n",
       "    .dataframe tbody tr th:only-of-type {\n",
       "        vertical-align: middle;\n",
       "    }\n",
       "\n",
       "    .dataframe tbody tr th {\n",
       "        vertical-align: top;\n",
       "    }\n",
       "\n",
       "    .dataframe thead th {\n",
       "        text-align: right;\n",
       "    }\n",
       "</style>\n",
       "<table border=\"1\" class=\"dataframe\">\n",
       "  <thead>\n",
       "    <tr style=\"text-align: right;\">\n",
       "      <th></th>\n",
       "      <th>Campaign name</th>\n",
       "      <th>Ad set name</th>\n",
       "      <th>Ad name</th>\n",
       "      <th>Platform</th>\n",
       "      <th>Result Type</th>\n",
       "      <th>Results</th>\n",
       "      <th>CTR (all)</th>\n",
       "      <th>Result rate</th>\n",
       "      <th>Amount spent (INR)</th>\n",
       "      <th>Cost per result</th>\n",
       "      <th>Frequency</th>\n",
       "      <th>CPM (cost per 1,000 impressions)</th>\n",
       "      <th>Impressions</th>\n",
       "      <th>Clicks (all)</th>\n",
       "      <th>Reporting starts</th>\n",
       "      <th>Reporting ends</th>\n",
       "    </tr>\n",
       "  </thead>\n",
       "  <tbody>\n",
       "    <tr>\n",
       "      <th>0</th>\n",
       "      <td>CV - Franchise Lead Generation - Phase II - 3 Nov</td>\n",
       "      <td>IT Professionals</td>\n",
       "      <td>Image-Minimum Investment &amp; Maximum Profit</td>\n",
       "      <td>facebook</td>\n",
       "      <td>On-Facebook leads</td>\n",
       "      <td>66.0</td>\n",
       "      <td>2.048234</td>\n",
       "      <td>0.203283</td>\n",
       "      <td>3581.630000</td>\n",
       "      <td>54.267121</td>\n",
       "      <td>2.771168</td>\n",
       "      <td>110.316013</td>\n",
       "      <td>32467</td>\n",
       "      <td>665</td>\n",
       "      <td>2019-11-01</td>\n",
       "      <td>2019-12-03</td>\n",
       "    </tr>\n",
       "    <tr>\n",
       "      <th>1</th>\n",
       "      <td>CV - Franchise Lead Generation - Phase II - 3 Nov</td>\n",
       "      <td>Remarketing</td>\n",
       "      <td>Image-Partner with us today!</td>\n",
       "      <td>facebook</td>\n",
       "      <td>On-Facebook leads</td>\n",
       "      <td>38.0</td>\n",
       "      <td>1.614188</td>\n",
       "      <td>0.131629</td>\n",
       "      <td>2243.260000</td>\n",
       "      <td>59.033158</td>\n",
       "      <td>3.159917</td>\n",
       "      <td>77.704804</td>\n",
       "      <td>28869</td>\n",
       "      <td>466</td>\n",
       "      <td>2019-11-01</td>\n",
       "      <td>2019-12-03</td>\n",
       "    </tr>\n",
       "    <tr>\n",
       "      <th>2</th>\n",
       "      <td>CV - Franchise Lead Generation - Phase II - 3 Nov</td>\n",
       "      <td>Business Owners</td>\n",
       "      <td>Image-Minimum Investment &amp; Maximum Profit</td>\n",
       "      <td>facebook</td>\n",
       "      <td>On-Facebook leads</td>\n",
       "      <td>39.0</td>\n",
       "      <td>2.082948</td>\n",
       "      <td>0.180122</td>\n",
       "      <td>2564.862106</td>\n",
       "      <td>65.765695</td>\n",
       "      <td>2.252601</td>\n",
       "      <td>118.458438</td>\n",
       "      <td>21652</td>\n",
       "      <td>451</td>\n",
       "      <td>2019-11-01</td>\n",
       "      <td>2019-12-03</td>\n",
       "    </tr>\n",
       "    <tr>\n",
       "      <th>3</th>\n",
       "      <td>CV - Franchise Lead Generation - Phase II - 3 Nov</td>\n",
       "      <td>Business Owners</td>\n",
       "      <td>Video-No. 1 Franchise Opportunity</td>\n",
       "      <td>facebook</td>\n",
       "      <td>On-Facebook leads</td>\n",
       "      <td>27.0</td>\n",
       "      <td>2.073127</td>\n",
       "      <td>0.139240</td>\n",
       "      <td>2321.700000</td>\n",
       "      <td>85.988889</td>\n",
       "      <td>2.522899</td>\n",
       "      <td>119.730803</td>\n",
       "      <td>19391</td>\n",
       "      <td>402</td>\n",
       "      <td>2019-11-01</td>\n",
       "      <td>2019-12-03</td>\n",
       "    </tr>\n",
       "    <tr>\n",
       "      <th>4</th>\n",
       "      <td>CV - Franchise Lead Generation - Phase II - 3 Nov</td>\n",
       "      <td>Remarketing</td>\n",
       "      <td>Image-Minimum Investment &amp; Maximum Profit</td>\n",
       "      <td>facebook</td>\n",
       "      <td>On-Facebook leads</td>\n",
       "      <td>50.0</td>\n",
       "      <td>3.079187</td>\n",
       "      <td>0.262729</td>\n",
       "      <td>2037.960000</td>\n",
       "      <td>40.759200</td>\n",
       "      <td>2.754922</td>\n",
       "      <td>107.086333</td>\n",
       "      <td>19031</td>\n",
       "      <td>586</td>\n",
       "      <td>2019-11-01</td>\n",
       "      <td>2019-12-03</td>\n",
       "    </tr>\n",
       "  </tbody>\n",
       "</table>\n",
       "</div>"
      ],
      "text/plain": [
       "                                       Campaign name       Ad set name  \\\n",
       "0  CV - Franchise Lead Generation - Phase II - 3 Nov  IT Professionals   \n",
       "1  CV - Franchise Lead Generation - Phase II - 3 Nov       Remarketing   \n",
       "2  CV - Franchise Lead Generation - Phase II - 3 Nov   Business Owners   \n",
       "3  CV - Franchise Lead Generation - Phase II - 3 Nov   Business Owners   \n",
       "4  CV - Franchise Lead Generation - Phase II - 3 Nov       Remarketing   \n",
       "\n",
       "                                     Ad name  Platform        Result Type  \\\n",
       "0  Image-Minimum Investment & Maximum Profit  facebook  On-Facebook leads   \n",
       "1               Image-Partner with us today!  facebook  On-Facebook leads   \n",
       "2  Image-Minimum Investment & Maximum Profit  facebook  On-Facebook leads   \n",
       "3          Video-No. 1 Franchise Opportunity  facebook  On-Facebook leads   \n",
       "4  Image-Minimum Investment & Maximum Profit  facebook  On-Facebook leads   \n",
       "\n",
       "   Results  CTR (all)  Result rate  Amount spent (INR)  Cost per result  \\\n",
       "0     66.0   2.048234     0.203283         3581.630000        54.267121   \n",
       "1     38.0   1.614188     0.131629         2243.260000        59.033158   \n",
       "2     39.0   2.082948     0.180122         2564.862106        65.765695   \n",
       "3     27.0   2.073127     0.139240         2321.700000        85.988889   \n",
       "4     50.0   3.079187     0.262729         2037.960000        40.759200   \n",
       "\n",
       "   Frequency  CPM (cost per 1,000 impressions)  Impressions  Clicks (all)  \\\n",
       "0   2.771168                        110.316013        32467           665   \n",
       "1   3.159917                         77.704804        28869           466   \n",
       "2   2.252601                        118.458438        21652           451   \n",
       "3   2.522899                        119.730803        19391           402   \n",
       "4   2.754922                        107.086333        19031           586   \n",
       "\n",
       "  Reporting starts Reporting ends  \n",
       "0       2019-11-01     2019-12-03  \n",
       "1       2019-11-01     2019-12-03  \n",
       "2       2019-11-01     2019-12-03  \n",
       "3       2019-11-01     2019-12-03  \n",
       "4       2019-11-01     2019-12-03  "
      ]
     },
     "execution_count": 4,
     "metadata": {},
     "output_type": "execute_result"
    }
   ],
   "source": [
    "data.head()"
   ]
  },
  {
   "cell_type": "code",
   "execution_count": 5,
   "metadata": {},
   "outputs": [],
   "source": [
    "#Consider only those records where amount spent > 0\n",
    "data = data[(data['Amount spent (INR)'] > 0)]"
   ]
  },
  {
   "cell_type": "code",
   "execution_count": 6,
   "metadata": {},
   "outputs": [
    {
     "data": {
      "text/plain": [
       "(62, 16)"
      ]
     },
     "execution_count": 6,
     "metadata": {},
     "output_type": "execute_result"
    }
   ],
   "source": [
    "data.shape"
   ]
  },
  {
   "cell_type": "markdown",
   "metadata": {},
   "source": [
    "### 2. Drop Columns that are extra"
   ]
  },
  {
   "cell_type": "code",
   "execution_count": 7,
   "metadata": {},
   "outputs": [],
   "source": [
    "#We see that Reporting Starts and Reporting Ends are additional columns which we don't require. So we drop them\n",
    "data.drop(['Reporting ends','Reporting starts'],axis = 1, inplace = True)"
   ]
  },
  {
   "cell_type": "code",
   "execution_count": 8,
   "metadata": {},
   "outputs": [
    {
     "data": {
      "text/html": [
       "<div>\n",
       "<style scoped>\n",
       "    .dataframe tbody tr th:only-of-type {\n",
       "        vertical-align: middle;\n",
       "    }\n",
       "\n",
       "    .dataframe tbody tr th {\n",
       "        vertical-align: top;\n",
       "    }\n",
       "\n",
       "    .dataframe thead th {\n",
       "        text-align: right;\n",
       "    }\n",
       "</style>\n",
       "<table border=\"1\" class=\"dataframe\">\n",
       "  <thead>\n",
       "    <tr style=\"text-align: right;\">\n",
       "      <th></th>\n",
       "      <th>Campaign name</th>\n",
       "      <th>Ad set name</th>\n",
       "      <th>Ad name</th>\n",
       "      <th>Platform</th>\n",
       "      <th>Result Type</th>\n",
       "      <th>Results</th>\n",
       "      <th>CTR (all)</th>\n",
       "      <th>Result rate</th>\n",
       "      <th>Amount spent (INR)</th>\n",
       "      <th>Cost per result</th>\n",
       "      <th>Frequency</th>\n",
       "      <th>CPM (cost per 1,000 impressions)</th>\n",
       "      <th>Impressions</th>\n",
       "      <th>Clicks (all)</th>\n",
       "    </tr>\n",
       "  </thead>\n",
       "  <tbody>\n",
       "    <tr>\n",
       "      <th>0</th>\n",
       "      <td>CV - Franchise Lead Generation - Phase II - 3 Nov</td>\n",
       "      <td>IT Professionals</td>\n",
       "      <td>Image-Minimum Investment &amp; Maximum Profit</td>\n",
       "      <td>facebook</td>\n",
       "      <td>On-Facebook leads</td>\n",
       "      <td>66.0</td>\n",
       "      <td>2.048234</td>\n",
       "      <td>0.203283</td>\n",
       "      <td>3581.630000</td>\n",
       "      <td>54.267121</td>\n",
       "      <td>2.771168</td>\n",
       "      <td>110.316013</td>\n",
       "      <td>32467</td>\n",
       "      <td>665</td>\n",
       "    </tr>\n",
       "    <tr>\n",
       "      <th>1</th>\n",
       "      <td>CV - Franchise Lead Generation - Phase II - 3 Nov</td>\n",
       "      <td>Remarketing</td>\n",
       "      <td>Image-Partner with us today!</td>\n",
       "      <td>facebook</td>\n",
       "      <td>On-Facebook leads</td>\n",
       "      <td>38.0</td>\n",
       "      <td>1.614188</td>\n",
       "      <td>0.131629</td>\n",
       "      <td>2243.260000</td>\n",
       "      <td>59.033158</td>\n",
       "      <td>3.159917</td>\n",
       "      <td>77.704804</td>\n",
       "      <td>28869</td>\n",
       "      <td>466</td>\n",
       "    </tr>\n",
       "    <tr>\n",
       "      <th>2</th>\n",
       "      <td>CV - Franchise Lead Generation - Phase II - 3 Nov</td>\n",
       "      <td>Business Owners</td>\n",
       "      <td>Image-Minimum Investment &amp; Maximum Profit</td>\n",
       "      <td>facebook</td>\n",
       "      <td>On-Facebook leads</td>\n",
       "      <td>39.0</td>\n",
       "      <td>2.082948</td>\n",
       "      <td>0.180122</td>\n",
       "      <td>2564.862106</td>\n",
       "      <td>65.765695</td>\n",
       "      <td>2.252601</td>\n",
       "      <td>118.458438</td>\n",
       "      <td>21652</td>\n",
       "      <td>451</td>\n",
       "    </tr>\n",
       "    <tr>\n",
       "      <th>3</th>\n",
       "      <td>CV - Franchise Lead Generation - Phase II - 3 Nov</td>\n",
       "      <td>Business Owners</td>\n",
       "      <td>Video-No. 1 Franchise Opportunity</td>\n",
       "      <td>facebook</td>\n",
       "      <td>On-Facebook leads</td>\n",
       "      <td>27.0</td>\n",
       "      <td>2.073127</td>\n",
       "      <td>0.139240</td>\n",
       "      <td>2321.700000</td>\n",
       "      <td>85.988889</td>\n",
       "      <td>2.522899</td>\n",
       "      <td>119.730803</td>\n",
       "      <td>19391</td>\n",
       "      <td>402</td>\n",
       "    </tr>\n",
       "    <tr>\n",
       "      <th>4</th>\n",
       "      <td>CV - Franchise Lead Generation - Phase II - 3 Nov</td>\n",
       "      <td>Remarketing</td>\n",
       "      <td>Image-Minimum Investment &amp; Maximum Profit</td>\n",
       "      <td>facebook</td>\n",
       "      <td>On-Facebook leads</td>\n",
       "      <td>50.0</td>\n",
       "      <td>3.079187</td>\n",
       "      <td>0.262729</td>\n",
       "      <td>2037.960000</td>\n",
       "      <td>40.759200</td>\n",
       "      <td>2.754922</td>\n",
       "      <td>107.086333</td>\n",
       "      <td>19031</td>\n",
       "      <td>586</td>\n",
       "    </tr>\n",
       "  </tbody>\n",
       "</table>\n",
       "</div>"
      ],
      "text/plain": [
       "                                       Campaign name       Ad set name  \\\n",
       "0  CV - Franchise Lead Generation - Phase II - 3 Nov  IT Professionals   \n",
       "1  CV - Franchise Lead Generation - Phase II - 3 Nov       Remarketing   \n",
       "2  CV - Franchise Lead Generation - Phase II - 3 Nov   Business Owners   \n",
       "3  CV - Franchise Lead Generation - Phase II - 3 Nov   Business Owners   \n",
       "4  CV - Franchise Lead Generation - Phase II - 3 Nov       Remarketing   \n",
       "\n",
       "                                     Ad name  Platform        Result Type  \\\n",
       "0  Image-Minimum Investment & Maximum Profit  facebook  On-Facebook leads   \n",
       "1               Image-Partner with us today!  facebook  On-Facebook leads   \n",
       "2  Image-Minimum Investment & Maximum Profit  facebook  On-Facebook leads   \n",
       "3          Video-No. 1 Franchise Opportunity  facebook  On-Facebook leads   \n",
       "4  Image-Minimum Investment & Maximum Profit  facebook  On-Facebook leads   \n",
       "\n",
       "   Results  CTR (all)  Result rate  Amount spent (INR)  Cost per result  \\\n",
       "0     66.0   2.048234     0.203283         3581.630000        54.267121   \n",
       "1     38.0   1.614188     0.131629         2243.260000        59.033158   \n",
       "2     39.0   2.082948     0.180122         2564.862106        65.765695   \n",
       "3     27.0   2.073127     0.139240         2321.700000        85.988889   \n",
       "4     50.0   3.079187     0.262729         2037.960000        40.759200   \n",
       "\n",
       "   Frequency  CPM (cost per 1,000 impressions)  Impressions  Clicks (all)  \n",
       "0   2.771168                        110.316013        32467           665  \n",
       "1   3.159917                         77.704804        28869           466  \n",
       "2   2.252601                        118.458438        21652           451  \n",
       "3   2.522899                        119.730803        19391           402  \n",
       "4   2.754922                        107.086333        19031           586  "
      ]
     },
     "execution_count": 8,
     "metadata": {},
     "output_type": "execute_result"
    }
   ],
   "source": [
    "#look at the data again\n",
    "data.head()"
   ]
  },
  {
   "cell_type": "code",
   "execution_count": 9,
   "metadata": {},
   "outputs": [
    {
     "data": {
      "text/plain": [
       "(62, 14)"
      ]
     },
     "execution_count": 9,
     "metadata": {},
     "output_type": "execute_result"
    }
   ],
   "source": [
    "#check rows and columns in data\n",
    "data.shape"
   ]
  },
  {
   "cell_type": "markdown",
   "metadata": {},
   "source": [
    "#### So, there are 62 rows and 14 columns in the data"
   ]
  },
  {
   "cell_type": "markdown",
   "metadata": {},
   "source": [
    "### 3. Deal with Null Values"
   ]
  },
  {
   "cell_type": "code",
   "execution_count": 10,
   "metadata": {},
   "outputs": [
    {
     "data": {
      "text/plain": [
       "Campaign name                        0\n",
       "Ad set name                          0\n",
       "Ad name                              0\n",
       "Platform                             0\n",
       "Result Type                         16\n",
       "Results                             16\n",
       "CTR (all)                            0\n",
       "Result rate                         16\n",
       "Amount spent (INR)                   0\n",
       "Cost per result                     16\n",
       "Frequency                            0\n",
       "CPM (cost per 1,000 impressions)     0\n",
       "Impressions                          0\n",
       "Clicks (all)                         0\n",
       "dtype: int64"
      ]
     },
     "execution_count": 10,
     "metadata": {},
     "output_type": "execute_result"
    }
   ],
   "source": [
    "#let's look if any column has null values\n",
    "data.isnull().sum()"
   ]
  },
  {
   "cell_type": "markdown",
   "metadata": {},
   "source": [
    "#### From this we can infer that some columns have Null values (basically blank). Let's look at them:\n",
    "**1. Results & Result Type:** This happened when there was no conversion (Result).\n",
    "\n",
    "**2. Result rate, Cost per result:** As both these metrics depend on Result, so these are also blank. \n",
    "\n",
    "This was bound to happen because not every single day and every ad got a result (conversion). **So it is safe to replace all nulls in Results and Result rate column with 0.**"
   ]
  },
  {
   "cell_type": "code",
   "execution_count": 11,
   "metadata": {},
   "outputs": [],
   "source": [
    "#Fill all blanks in Results with 0\n",
    "data['Results'] = data['Results'].fillna(0)\n",
    "data['Result rate'] = data['Result rate'].fillna(0)"
   ]
  },
  {
   "cell_type": "code",
   "execution_count": 12,
   "metadata": {},
   "outputs": [
    {
     "data": {
      "text/plain": [
       "Campaign name                        0\n",
       "Ad set name                          0\n",
       "Ad name                              0\n",
       "Platform                             0\n",
       "Result Type                         16\n",
       "Results                              0\n",
       "CTR (all)                            0\n",
       "Result rate                          0\n",
       "Amount spent (INR)                   0\n",
       "Cost per result                     16\n",
       "Frequency                            0\n",
       "CPM (cost per 1,000 impressions)     0\n",
       "Impressions                          0\n",
       "Clicks (all)                         0\n",
       "dtype: int64"
      ]
     },
     "execution_count": 12,
     "metadata": {},
     "output_type": "execute_result"
    }
   ],
   "source": [
    "#check how many nulls are still there \n",
    "data.isnull().sum()"
   ]
  },
  {
   "cell_type": "markdown",
   "metadata": {},
   "source": [
    "#### Voila! Results & Result rate column has no nulls now. Let's see what column Results Type is all about. "
   ]
  },
  {
   "cell_type": "code",
   "execution_count": 13,
   "metadata": {},
   "outputs": [
    {
     "data": {
      "text/plain": [
       "On-Facebook leads    46\n",
       "Name: Result Type, dtype: int64"
      ]
     },
     "execution_count": 13,
     "metadata": {},
     "output_type": "execute_result"
    }
   ],
   "source": [
    "data['Result Type'].value_counts()"
   ]
  },
  {
   "cell_type": "markdown",
   "metadata": {},
   "source": [
    "So we infer that 'Result Type' is basically the type of conversion event taking place. It can be either Page Like, Post Like, On-Facebook Lead, Custom Conversion etc. **Since, we are analysing just one campaign here, we can drop this column as it has same meaning throughout data set.**\n",
    "\n",
    "If we were analysing multiple campaigns, with different objectives, then keeping this column would have made sense."
   ]
  },
  {
   "cell_type": "code",
   "execution_count": 14,
   "metadata": {},
   "outputs": [],
   "source": [
    "#Drop Result Type column from data\n",
    "data.drop(['Result Type'],axis = 1, inplace = True)"
   ]
  },
  {
   "cell_type": "code",
   "execution_count": 15,
   "metadata": {},
   "outputs": [
    {
     "data": {
      "text/plain": [
       "Campaign name                        0\n",
       "Ad set name                          0\n",
       "Ad name                              0\n",
       "Platform                             0\n",
       "Results                              0\n",
       "CTR (all)                            0\n",
       "Result rate                          0\n",
       "Amount spent (INR)                   0\n",
       "Cost per result                     16\n",
       "Frequency                            0\n",
       "CPM (cost per 1,000 impressions)     0\n",
       "Impressions                          0\n",
       "Clicks (all)                         0\n",
       "dtype: int64"
      ]
     },
     "execution_count": 15,
     "metadata": {},
     "output_type": "execute_result"
    }
   ],
   "source": [
    "#check how many nulls are still there \n",
    "data.isnull().sum()"
   ]
  },
  {
   "cell_type": "markdown",
   "metadata": {},
   "source": [
    "Now we need to deal with **Cost per result**.\n",
    "The cases where CPA is Null means that there was no conversion. So ideally, in these cases the CPA should be very high (in case a conversion actually happened)."
   ]
  },
  {
   "cell_type": "markdown",
   "metadata": {},
   "source": [
    "#### So, let's leave this column as it is because we can't assign any value for records where no conversion happened."
   ]
  },
  {
   "cell_type": "code",
   "execution_count": 16,
   "metadata": {},
   "outputs": [
    {
     "name": "stdout",
     "output_type": "stream",
     "text": [
      "<class 'pandas.core.frame.DataFrame'>\n",
      "Int64Index: 62 entries, 0 to 61\n",
      "Data columns (total 13 columns):\n",
      " #   Column                            Non-Null Count  Dtype  \n",
      "---  ------                            --------------  -----  \n",
      " 0   Campaign name                     62 non-null     object \n",
      " 1   Ad set name                       62 non-null     object \n",
      " 2   Ad name                           62 non-null     object \n",
      " 3   Platform                          62 non-null     object \n",
      " 4   Results                           62 non-null     float64\n",
      " 5   CTR (all)                         62 non-null     float64\n",
      " 6   Result rate                       62 non-null     float64\n",
      " 7   Amount spent (INR)                62 non-null     float64\n",
      " 8   Cost per result                   46 non-null     float64\n",
      " 9   Frequency                         62 non-null     float64\n",
      " 10  CPM (cost per 1,000 impressions)  62 non-null     float64\n",
      " 11  Impressions                       62 non-null     int64  \n",
      " 12  Clicks (all)                      62 non-null     int64  \n",
      "dtypes: float64(7), int64(2), object(4)\n",
      "memory usage: 6.8+ KB\n"
     ]
    }
   ],
   "source": [
    "data.info()"
   ]
  },
  {
   "cell_type": "markdown",
   "metadata": {},
   "source": [
    "# 2. Feature Engineering"
   ]
  },
  {
   "cell_type": "markdown",
   "metadata": {},
   "source": [
    "### 1. We can divide Frequency in buckets"
   ]
  },
  {
   "cell_type": "code",
   "execution_count": 17,
   "metadata": {},
   "outputs": [],
   "source": [
    "data['Frequency'] = data['Frequency'].apply(lambda x:'1 to 2' if x<2\n",
    "                                               else '2 to 3' if x>=2 and x<3 \n",
    "                                               else '3 to 4' if x>=3 and x<4\n",
    "                                               else '4 to 5' if x>=4 and x<5\n",
    "                                               else 'More than 5')"
   ]
  },
  {
   "cell_type": "code",
   "execution_count": 18,
   "metadata": {},
   "outputs": [
    {
     "data": {
      "text/html": [
       "<div>\n",
       "<style scoped>\n",
       "    .dataframe tbody tr th:only-of-type {\n",
       "        vertical-align: middle;\n",
       "    }\n",
       "\n",
       "    .dataframe tbody tr th {\n",
       "        vertical-align: top;\n",
       "    }\n",
       "\n",
       "    .dataframe thead th {\n",
       "        text-align: right;\n",
       "    }\n",
       "</style>\n",
       "<table border=\"1\" class=\"dataframe\">\n",
       "  <thead>\n",
       "    <tr style=\"text-align: right;\">\n",
       "      <th></th>\n",
       "      <th>Campaign name</th>\n",
       "      <th>Ad set name</th>\n",
       "      <th>Ad name</th>\n",
       "      <th>Platform</th>\n",
       "      <th>Results</th>\n",
       "      <th>CTR (all)</th>\n",
       "      <th>Result rate</th>\n",
       "      <th>Amount spent (INR)</th>\n",
       "      <th>Cost per result</th>\n",
       "      <th>Frequency</th>\n",
       "      <th>CPM (cost per 1,000 impressions)</th>\n",
       "      <th>Impressions</th>\n",
       "      <th>Clicks (all)</th>\n",
       "    </tr>\n",
       "  </thead>\n",
       "  <tbody>\n",
       "    <tr>\n",
       "      <th>0</th>\n",
       "      <td>CV - Franchise Lead Generation - Phase II - 3 Nov</td>\n",
       "      <td>IT Professionals</td>\n",
       "      <td>Image-Minimum Investment &amp; Maximum Profit</td>\n",
       "      <td>facebook</td>\n",
       "      <td>66.0</td>\n",
       "      <td>2.048234</td>\n",
       "      <td>0.203283</td>\n",
       "      <td>3581.630000</td>\n",
       "      <td>54.267121</td>\n",
       "      <td>2 to 3</td>\n",
       "      <td>110.316013</td>\n",
       "      <td>32467</td>\n",
       "      <td>665</td>\n",
       "    </tr>\n",
       "    <tr>\n",
       "      <th>1</th>\n",
       "      <td>CV - Franchise Lead Generation - Phase II - 3 Nov</td>\n",
       "      <td>Remarketing</td>\n",
       "      <td>Image-Partner with us today!</td>\n",
       "      <td>facebook</td>\n",
       "      <td>38.0</td>\n",
       "      <td>1.614188</td>\n",
       "      <td>0.131629</td>\n",
       "      <td>2243.260000</td>\n",
       "      <td>59.033158</td>\n",
       "      <td>3 to 4</td>\n",
       "      <td>77.704804</td>\n",
       "      <td>28869</td>\n",
       "      <td>466</td>\n",
       "    </tr>\n",
       "    <tr>\n",
       "      <th>2</th>\n",
       "      <td>CV - Franchise Lead Generation - Phase II - 3 Nov</td>\n",
       "      <td>Business Owners</td>\n",
       "      <td>Image-Minimum Investment &amp; Maximum Profit</td>\n",
       "      <td>facebook</td>\n",
       "      <td>39.0</td>\n",
       "      <td>2.082948</td>\n",
       "      <td>0.180122</td>\n",
       "      <td>2564.862106</td>\n",
       "      <td>65.765695</td>\n",
       "      <td>2 to 3</td>\n",
       "      <td>118.458438</td>\n",
       "      <td>21652</td>\n",
       "      <td>451</td>\n",
       "    </tr>\n",
       "    <tr>\n",
       "      <th>3</th>\n",
       "      <td>CV - Franchise Lead Generation - Phase II - 3 Nov</td>\n",
       "      <td>Business Owners</td>\n",
       "      <td>Video-No. 1 Franchise Opportunity</td>\n",
       "      <td>facebook</td>\n",
       "      <td>27.0</td>\n",
       "      <td>2.073127</td>\n",
       "      <td>0.139240</td>\n",
       "      <td>2321.700000</td>\n",
       "      <td>85.988889</td>\n",
       "      <td>2 to 3</td>\n",
       "      <td>119.730803</td>\n",
       "      <td>19391</td>\n",
       "      <td>402</td>\n",
       "    </tr>\n",
       "    <tr>\n",
       "      <th>4</th>\n",
       "      <td>CV - Franchise Lead Generation - Phase II - 3 Nov</td>\n",
       "      <td>Remarketing</td>\n",
       "      <td>Image-Minimum Investment &amp; Maximum Profit</td>\n",
       "      <td>facebook</td>\n",
       "      <td>50.0</td>\n",
       "      <td>3.079187</td>\n",
       "      <td>0.262729</td>\n",
       "      <td>2037.960000</td>\n",
       "      <td>40.759200</td>\n",
       "      <td>2 to 3</td>\n",
       "      <td>107.086333</td>\n",
       "      <td>19031</td>\n",
       "      <td>586</td>\n",
       "    </tr>\n",
       "  </tbody>\n",
       "</table>\n",
       "</div>"
      ],
      "text/plain": [
       "                                       Campaign name       Ad set name  \\\n",
       "0  CV - Franchise Lead Generation - Phase II - 3 Nov  IT Professionals   \n",
       "1  CV - Franchise Lead Generation - Phase II - 3 Nov       Remarketing   \n",
       "2  CV - Franchise Lead Generation - Phase II - 3 Nov   Business Owners   \n",
       "3  CV - Franchise Lead Generation - Phase II - 3 Nov   Business Owners   \n",
       "4  CV - Franchise Lead Generation - Phase II - 3 Nov       Remarketing   \n",
       "\n",
       "                                     Ad name  Platform  Results  CTR (all)  \\\n",
       "0  Image-Minimum Investment & Maximum Profit  facebook     66.0   2.048234   \n",
       "1               Image-Partner with us today!  facebook     38.0   1.614188   \n",
       "2  Image-Minimum Investment & Maximum Profit  facebook     39.0   2.082948   \n",
       "3          Video-No. 1 Franchise Opportunity  facebook     27.0   2.073127   \n",
       "4  Image-Minimum Investment & Maximum Profit  facebook     50.0   3.079187   \n",
       "\n",
       "   Result rate  Amount spent (INR)  Cost per result Frequency  \\\n",
       "0     0.203283         3581.630000        54.267121    2 to 3   \n",
       "1     0.131629         2243.260000        59.033158    3 to 4   \n",
       "2     0.180122         2564.862106        65.765695    2 to 3   \n",
       "3     0.139240         2321.700000        85.988889    2 to 3   \n",
       "4     0.262729         2037.960000        40.759200    2 to 3   \n",
       "\n",
       "   CPM (cost per 1,000 impressions)  Impressions  Clicks (all)  \n",
       "0                        110.316013        32467           665  \n",
       "1                         77.704804        28869           466  \n",
       "2                        118.458438        21652           451  \n",
       "3                        119.730803        19391           402  \n",
       "4                        107.086333        19031           586  "
      ]
     },
     "execution_count": 18,
     "metadata": {},
     "output_type": "execute_result"
    }
   ],
   "source": [
    "data.head()"
   ]
  },
  {
   "cell_type": "markdown",
   "metadata": {},
   "source": [
    "### 2. Split Ad name into Ad Format and Ad Headline"
   ]
  },
  {
   "cell_type": "code",
   "execution_count": 19,
   "metadata": {},
   "outputs": [],
   "source": [
    "data['Ad_name'] = data['Ad name']"
   ]
  },
  {
   "cell_type": "code",
   "execution_count": 20,
   "metadata": {},
   "outputs": [
    {
     "data": {
      "text/html": [
       "<div>\n",
       "<style scoped>\n",
       "    .dataframe tbody tr th:only-of-type {\n",
       "        vertical-align: middle;\n",
       "    }\n",
       "\n",
       "    .dataframe tbody tr th {\n",
       "        vertical-align: top;\n",
       "    }\n",
       "\n",
       "    .dataframe thead th {\n",
       "        text-align: right;\n",
       "    }\n",
       "</style>\n",
       "<table border=\"1\" class=\"dataframe\">\n",
       "  <thead>\n",
       "    <tr style=\"text-align: right;\">\n",
       "      <th></th>\n",
       "      <th>Campaign name</th>\n",
       "      <th>Ad set name</th>\n",
       "      <th>Ad name</th>\n",
       "      <th>Platform</th>\n",
       "      <th>Results</th>\n",
       "      <th>CTR (all)</th>\n",
       "      <th>Result rate</th>\n",
       "      <th>Amount spent (INR)</th>\n",
       "      <th>Cost per result</th>\n",
       "      <th>Frequency</th>\n",
       "      <th>CPM (cost per 1,000 impressions)</th>\n",
       "      <th>Impressions</th>\n",
       "      <th>Clicks (all)</th>\n",
       "      <th>Ad_name</th>\n",
       "    </tr>\n",
       "  </thead>\n",
       "  <tbody>\n",
       "    <tr>\n",
       "      <th>0</th>\n",
       "      <td>CV - Franchise Lead Generation - Phase II - 3 Nov</td>\n",
       "      <td>IT Professionals</td>\n",
       "      <td>Image-Minimum Investment &amp; Maximum Profit</td>\n",
       "      <td>facebook</td>\n",
       "      <td>66.0</td>\n",
       "      <td>2.048234</td>\n",
       "      <td>0.203283</td>\n",
       "      <td>3581.630000</td>\n",
       "      <td>54.267121</td>\n",
       "      <td>2 to 3</td>\n",
       "      <td>110.316013</td>\n",
       "      <td>32467</td>\n",
       "      <td>665</td>\n",
       "      <td>Image-Minimum Investment &amp; Maximum Profit</td>\n",
       "    </tr>\n",
       "    <tr>\n",
       "      <th>1</th>\n",
       "      <td>CV - Franchise Lead Generation - Phase II - 3 Nov</td>\n",
       "      <td>Remarketing</td>\n",
       "      <td>Image-Partner with us today!</td>\n",
       "      <td>facebook</td>\n",
       "      <td>38.0</td>\n",
       "      <td>1.614188</td>\n",
       "      <td>0.131629</td>\n",
       "      <td>2243.260000</td>\n",
       "      <td>59.033158</td>\n",
       "      <td>3 to 4</td>\n",
       "      <td>77.704804</td>\n",
       "      <td>28869</td>\n",
       "      <td>466</td>\n",
       "      <td>Image-Partner with us today!</td>\n",
       "    </tr>\n",
       "    <tr>\n",
       "      <th>2</th>\n",
       "      <td>CV - Franchise Lead Generation - Phase II - 3 Nov</td>\n",
       "      <td>Business Owners</td>\n",
       "      <td>Image-Minimum Investment &amp; Maximum Profit</td>\n",
       "      <td>facebook</td>\n",
       "      <td>39.0</td>\n",
       "      <td>2.082948</td>\n",
       "      <td>0.180122</td>\n",
       "      <td>2564.862106</td>\n",
       "      <td>65.765695</td>\n",
       "      <td>2 to 3</td>\n",
       "      <td>118.458438</td>\n",
       "      <td>21652</td>\n",
       "      <td>451</td>\n",
       "      <td>Image-Minimum Investment &amp; Maximum Profit</td>\n",
       "    </tr>\n",
       "    <tr>\n",
       "      <th>3</th>\n",
       "      <td>CV - Franchise Lead Generation - Phase II - 3 Nov</td>\n",
       "      <td>Business Owners</td>\n",
       "      <td>Video-No. 1 Franchise Opportunity</td>\n",
       "      <td>facebook</td>\n",
       "      <td>27.0</td>\n",
       "      <td>2.073127</td>\n",
       "      <td>0.139240</td>\n",
       "      <td>2321.700000</td>\n",
       "      <td>85.988889</td>\n",
       "      <td>2 to 3</td>\n",
       "      <td>119.730803</td>\n",
       "      <td>19391</td>\n",
       "      <td>402</td>\n",
       "      <td>Video-No. 1 Franchise Opportunity</td>\n",
       "    </tr>\n",
       "    <tr>\n",
       "      <th>4</th>\n",
       "      <td>CV - Franchise Lead Generation - Phase II - 3 Nov</td>\n",
       "      <td>Remarketing</td>\n",
       "      <td>Image-Minimum Investment &amp; Maximum Profit</td>\n",
       "      <td>facebook</td>\n",
       "      <td>50.0</td>\n",
       "      <td>3.079187</td>\n",
       "      <td>0.262729</td>\n",
       "      <td>2037.960000</td>\n",
       "      <td>40.759200</td>\n",
       "      <td>2 to 3</td>\n",
       "      <td>107.086333</td>\n",
       "      <td>19031</td>\n",
       "      <td>586</td>\n",
       "      <td>Image-Minimum Investment &amp; Maximum Profit</td>\n",
       "    </tr>\n",
       "  </tbody>\n",
       "</table>\n",
       "</div>"
      ],
      "text/plain": [
       "                                       Campaign name       Ad set name  \\\n",
       "0  CV - Franchise Lead Generation - Phase II - 3 Nov  IT Professionals   \n",
       "1  CV - Franchise Lead Generation - Phase II - 3 Nov       Remarketing   \n",
       "2  CV - Franchise Lead Generation - Phase II - 3 Nov   Business Owners   \n",
       "3  CV - Franchise Lead Generation - Phase II - 3 Nov   Business Owners   \n",
       "4  CV - Franchise Lead Generation - Phase II - 3 Nov       Remarketing   \n",
       "\n",
       "                                     Ad name  Platform  Results  CTR (all)  \\\n",
       "0  Image-Minimum Investment & Maximum Profit  facebook     66.0   2.048234   \n",
       "1               Image-Partner with us today!  facebook     38.0   1.614188   \n",
       "2  Image-Minimum Investment & Maximum Profit  facebook     39.0   2.082948   \n",
       "3          Video-No. 1 Franchise Opportunity  facebook     27.0   2.073127   \n",
       "4  Image-Minimum Investment & Maximum Profit  facebook     50.0   3.079187   \n",
       "\n",
       "   Result rate  Amount spent (INR)  Cost per result Frequency  \\\n",
       "0     0.203283         3581.630000        54.267121    2 to 3   \n",
       "1     0.131629         2243.260000        59.033158    3 to 4   \n",
       "2     0.180122         2564.862106        65.765695    2 to 3   \n",
       "3     0.139240         2321.700000        85.988889    2 to 3   \n",
       "4     0.262729         2037.960000        40.759200    2 to 3   \n",
       "\n",
       "   CPM (cost per 1,000 impressions)  Impressions  Clicks (all)  \\\n",
       "0                        110.316013        32467           665   \n",
       "1                         77.704804        28869           466   \n",
       "2                        118.458438        21652           451   \n",
       "3                        119.730803        19391           402   \n",
       "4                        107.086333        19031           586   \n",
       "\n",
       "                                     Ad_name  \n",
       "0  Image-Minimum Investment & Maximum Profit  \n",
       "1               Image-Partner with us today!  \n",
       "2  Image-Minimum Investment & Maximum Profit  \n",
       "3          Video-No. 1 Franchise Opportunity  \n",
       "4  Image-Minimum Investment & Maximum Profit  "
      ]
     },
     "execution_count": 20,
     "metadata": {},
     "output_type": "execute_result"
    }
   ],
   "source": [
    "data.head()"
   ]
  },
  {
   "cell_type": "code",
   "execution_count": 21,
   "metadata": {
    "scrolled": false
   },
   "outputs": [],
   "source": [
    "data[['Ad Format','Ad Headline']] = data.Ad_name.str.split(\"-\", expand = True)"
   ]
  },
  {
   "cell_type": "code",
   "execution_count": 22,
   "metadata": {
    "scrolled": false
   },
   "outputs": [
    {
     "data": {
      "text/html": [
       "<div>\n",
       "<style scoped>\n",
       "    .dataframe tbody tr th:only-of-type {\n",
       "        vertical-align: middle;\n",
       "    }\n",
       "\n",
       "    .dataframe tbody tr th {\n",
       "        vertical-align: top;\n",
       "    }\n",
       "\n",
       "    .dataframe thead th {\n",
       "        text-align: right;\n",
       "    }\n",
       "</style>\n",
       "<table border=\"1\" class=\"dataframe\">\n",
       "  <thead>\n",
       "    <tr style=\"text-align: right;\">\n",
       "      <th></th>\n",
       "      <th>Campaign name</th>\n",
       "      <th>Ad set name</th>\n",
       "      <th>Ad name</th>\n",
       "      <th>Platform</th>\n",
       "      <th>Results</th>\n",
       "      <th>CTR (all)</th>\n",
       "      <th>Result rate</th>\n",
       "      <th>Amount spent (INR)</th>\n",
       "      <th>Cost per result</th>\n",
       "      <th>Frequency</th>\n",
       "      <th>CPM (cost per 1,000 impressions)</th>\n",
       "      <th>Impressions</th>\n",
       "      <th>Clicks (all)</th>\n",
       "      <th>Ad_name</th>\n",
       "      <th>Ad Format</th>\n",
       "      <th>Ad Headline</th>\n",
       "    </tr>\n",
       "  </thead>\n",
       "  <tbody>\n",
       "    <tr>\n",
       "      <th>0</th>\n",
       "      <td>CV - Franchise Lead Generation - Phase II - 3 Nov</td>\n",
       "      <td>IT Professionals</td>\n",
       "      <td>Image-Minimum Investment &amp; Maximum Profit</td>\n",
       "      <td>facebook</td>\n",
       "      <td>66.0</td>\n",
       "      <td>2.048234</td>\n",
       "      <td>0.203283</td>\n",
       "      <td>3581.630000</td>\n",
       "      <td>54.267121</td>\n",
       "      <td>2 to 3</td>\n",
       "      <td>110.316013</td>\n",
       "      <td>32467</td>\n",
       "      <td>665</td>\n",
       "      <td>Image-Minimum Investment &amp; Maximum Profit</td>\n",
       "      <td>Image</td>\n",
       "      <td>Minimum Investment &amp; Maximum Profit</td>\n",
       "    </tr>\n",
       "    <tr>\n",
       "      <th>1</th>\n",
       "      <td>CV - Franchise Lead Generation - Phase II - 3 Nov</td>\n",
       "      <td>Remarketing</td>\n",
       "      <td>Image-Partner with us today!</td>\n",
       "      <td>facebook</td>\n",
       "      <td>38.0</td>\n",
       "      <td>1.614188</td>\n",
       "      <td>0.131629</td>\n",
       "      <td>2243.260000</td>\n",
       "      <td>59.033158</td>\n",
       "      <td>3 to 4</td>\n",
       "      <td>77.704804</td>\n",
       "      <td>28869</td>\n",
       "      <td>466</td>\n",
       "      <td>Image-Partner with us today!</td>\n",
       "      <td>Image</td>\n",
       "      <td>Partner with us today!</td>\n",
       "    </tr>\n",
       "    <tr>\n",
       "      <th>2</th>\n",
       "      <td>CV - Franchise Lead Generation - Phase II - 3 Nov</td>\n",
       "      <td>Business Owners</td>\n",
       "      <td>Image-Minimum Investment &amp; Maximum Profit</td>\n",
       "      <td>facebook</td>\n",
       "      <td>39.0</td>\n",
       "      <td>2.082948</td>\n",
       "      <td>0.180122</td>\n",
       "      <td>2564.862106</td>\n",
       "      <td>65.765695</td>\n",
       "      <td>2 to 3</td>\n",
       "      <td>118.458438</td>\n",
       "      <td>21652</td>\n",
       "      <td>451</td>\n",
       "      <td>Image-Minimum Investment &amp; Maximum Profit</td>\n",
       "      <td>Image</td>\n",
       "      <td>Minimum Investment &amp; Maximum Profit</td>\n",
       "    </tr>\n",
       "    <tr>\n",
       "      <th>3</th>\n",
       "      <td>CV - Franchise Lead Generation - Phase II - 3 Nov</td>\n",
       "      <td>Business Owners</td>\n",
       "      <td>Video-No. 1 Franchise Opportunity</td>\n",
       "      <td>facebook</td>\n",
       "      <td>27.0</td>\n",
       "      <td>2.073127</td>\n",
       "      <td>0.139240</td>\n",
       "      <td>2321.700000</td>\n",
       "      <td>85.988889</td>\n",
       "      <td>2 to 3</td>\n",
       "      <td>119.730803</td>\n",
       "      <td>19391</td>\n",
       "      <td>402</td>\n",
       "      <td>Video-No. 1 Franchise Opportunity</td>\n",
       "      <td>Video</td>\n",
       "      <td>No. 1 Franchise Opportunity</td>\n",
       "    </tr>\n",
       "    <tr>\n",
       "      <th>4</th>\n",
       "      <td>CV - Franchise Lead Generation - Phase II - 3 Nov</td>\n",
       "      <td>Remarketing</td>\n",
       "      <td>Image-Minimum Investment &amp; Maximum Profit</td>\n",
       "      <td>facebook</td>\n",
       "      <td>50.0</td>\n",
       "      <td>3.079187</td>\n",
       "      <td>0.262729</td>\n",
       "      <td>2037.960000</td>\n",
       "      <td>40.759200</td>\n",
       "      <td>2 to 3</td>\n",
       "      <td>107.086333</td>\n",
       "      <td>19031</td>\n",
       "      <td>586</td>\n",
       "      <td>Image-Minimum Investment &amp; Maximum Profit</td>\n",
       "      <td>Image</td>\n",
       "      <td>Minimum Investment &amp; Maximum Profit</td>\n",
       "    </tr>\n",
       "  </tbody>\n",
       "</table>\n",
       "</div>"
      ],
      "text/plain": [
       "                                       Campaign name       Ad set name  \\\n",
       "0  CV - Franchise Lead Generation - Phase II - 3 Nov  IT Professionals   \n",
       "1  CV - Franchise Lead Generation - Phase II - 3 Nov       Remarketing   \n",
       "2  CV - Franchise Lead Generation - Phase II - 3 Nov   Business Owners   \n",
       "3  CV - Franchise Lead Generation - Phase II - 3 Nov   Business Owners   \n",
       "4  CV - Franchise Lead Generation - Phase II - 3 Nov       Remarketing   \n",
       "\n",
       "                                     Ad name  Platform  Results  CTR (all)  \\\n",
       "0  Image-Minimum Investment & Maximum Profit  facebook     66.0   2.048234   \n",
       "1               Image-Partner with us today!  facebook     38.0   1.614188   \n",
       "2  Image-Minimum Investment & Maximum Profit  facebook     39.0   2.082948   \n",
       "3          Video-No. 1 Franchise Opportunity  facebook     27.0   2.073127   \n",
       "4  Image-Minimum Investment & Maximum Profit  facebook     50.0   3.079187   \n",
       "\n",
       "   Result rate  Amount spent (INR)  Cost per result Frequency  \\\n",
       "0     0.203283         3581.630000        54.267121    2 to 3   \n",
       "1     0.131629         2243.260000        59.033158    3 to 4   \n",
       "2     0.180122         2564.862106        65.765695    2 to 3   \n",
       "3     0.139240         2321.700000        85.988889    2 to 3   \n",
       "4     0.262729         2037.960000        40.759200    2 to 3   \n",
       "\n",
       "   CPM (cost per 1,000 impressions)  Impressions  Clicks (all)  \\\n",
       "0                        110.316013        32467           665   \n",
       "1                         77.704804        28869           466   \n",
       "2                        118.458438        21652           451   \n",
       "3                        119.730803        19391           402   \n",
       "4                        107.086333        19031           586   \n",
       "\n",
       "                                     Ad_name Ad Format  \\\n",
       "0  Image-Minimum Investment & Maximum Profit     Image   \n",
       "1               Image-Partner with us today!     Image   \n",
       "2  Image-Minimum Investment & Maximum Profit     Image   \n",
       "3          Video-No. 1 Franchise Opportunity     Video   \n",
       "4  Image-Minimum Investment & Maximum Profit     Image   \n",
       "\n",
       "                           Ad Headline  \n",
       "0  Minimum Investment & Maximum Profit  \n",
       "1               Partner with us today!  \n",
       "2  Minimum Investment & Maximum Profit  \n",
       "3          No. 1 Franchise Opportunity  \n",
       "4  Minimum Investment & Maximum Profit  "
      ]
     },
     "execution_count": 22,
     "metadata": {},
     "output_type": "execute_result"
    }
   ],
   "source": [
    "data.head()"
   ]
  },
  {
   "cell_type": "code",
   "execution_count": 23,
   "metadata": {},
   "outputs": [],
   "source": [
    "data.drop(['Ad name','Ad_name'],axis = 1, inplace = True)"
   ]
  },
  {
   "cell_type": "code",
   "execution_count": 24,
   "metadata": {},
   "outputs": [
    {
     "data": {
      "text/html": [
       "<div>\n",
       "<style scoped>\n",
       "    .dataframe tbody tr th:only-of-type {\n",
       "        vertical-align: middle;\n",
       "    }\n",
       "\n",
       "    .dataframe tbody tr th {\n",
       "        vertical-align: top;\n",
       "    }\n",
       "\n",
       "    .dataframe thead th {\n",
       "        text-align: right;\n",
       "    }\n",
       "</style>\n",
       "<table border=\"1\" class=\"dataframe\">\n",
       "  <thead>\n",
       "    <tr style=\"text-align: right;\">\n",
       "      <th></th>\n",
       "      <th>Campaign name</th>\n",
       "      <th>Ad set name</th>\n",
       "      <th>Platform</th>\n",
       "      <th>Results</th>\n",
       "      <th>CTR (all)</th>\n",
       "      <th>Result rate</th>\n",
       "      <th>Amount spent (INR)</th>\n",
       "      <th>Cost per result</th>\n",
       "      <th>Frequency</th>\n",
       "      <th>CPM (cost per 1,000 impressions)</th>\n",
       "      <th>Impressions</th>\n",
       "      <th>Clicks (all)</th>\n",
       "      <th>Ad Format</th>\n",
       "      <th>Ad Headline</th>\n",
       "    </tr>\n",
       "  </thead>\n",
       "  <tbody>\n",
       "    <tr>\n",
       "      <th>0</th>\n",
       "      <td>CV - Franchise Lead Generation - Phase II - 3 Nov</td>\n",
       "      <td>IT Professionals</td>\n",
       "      <td>facebook</td>\n",
       "      <td>66.0</td>\n",
       "      <td>2.048234</td>\n",
       "      <td>0.203283</td>\n",
       "      <td>3581.630000</td>\n",
       "      <td>54.267121</td>\n",
       "      <td>2 to 3</td>\n",
       "      <td>110.316013</td>\n",
       "      <td>32467</td>\n",
       "      <td>665</td>\n",
       "      <td>Image</td>\n",
       "      <td>Minimum Investment &amp; Maximum Profit</td>\n",
       "    </tr>\n",
       "    <tr>\n",
       "      <th>1</th>\n",
       "      <td>CV - Franchise Lead Generation - Phase II - 3 Nov</td>\n",
       "      <td>Remarketing</td>\n",
       "      <td>facebook</td>\n",
       "      <td>38.0</td>\n",
       "      <td>1.614188</td>\n",
       "      <td>0.131629</td>\n",
       "      <td>2243.260000</td>\n",
       "      <td>59.033158</td>\n",
       "      <td>3 to 4</td>\n",
       "      <td>77.704804</td>\n",
       "      <td>28869</td>\n",
       "      <td>466</td>\n",
       "      <td>Image</td>\n",
       "      <td>Partner with us today!</td>\n",
       "    </tr>\n",
       "    <tr>\n",
       "      <th>2</th>\n",
       "      <td>CV - Franchise Lead Generation - Phase II - 3 Nov</td>\n",
       "      <td>Business Owners</td>\n",
       "      <td>facebook</td>\n",
       "      <td>39.0</td>\n",
       "      <td>2.082948</td>\n",
       "      <td>0.180122</td>\n",
       "      <td>2564.862106</td>\n",
       "      <td>65.765695</td>\n",
       "      <td>2 to 3</td>\n",
       "      <td>118.458438</td>\n",
       "      <td>21652</td>\n",
       "      <td>451</td>\n",
       "      <td>Image</td>\n",
       "      <td>Minimum Investment &amp; Maximum Profit</td>\n",
       "    </tr>\n",
       "    <tr>\n",
       "      <th>3</th>\n",
       "      <td>CV - Franchise Lead Generation - Phase II - 3 Nov</td>\n",
       "      <td>Business Owners</td>\n",
       "      <td>facebook</td>\n",
       "      <td>27.0</td>\n",
       "      <td>2.073127</td>\n",
       "      <td>0.139240</td>\n",
       "      <td>2321.700000</td>\n",
       "      <td>85.988889</td>\n",
       "      <td>2 to 3</td>\n",
       "      <td>119.730803</td>\n",
       "      <td>19391</td>\n",
       "      <td>402</td>\n",
       "      <td>Video</td>\n",
       "      <td>No. 1 Franchise Opportunity</td>\n",
       "    </tr>\n",
       "    <tr>\n",
       "      <th>4</th>\n",
       "      <td>CV - Franchise Lead Generation - Phase II - 3 Nov</td>\n",
       "      <td>Remarketing</td>\n",
       "      <td>facebook</td>\n",
       "      <td>50.0</td>\n",
       "      <td>3.079187</td>\n",
       "      <td>0.262729</td>\n",
       "      <td>2037.960000</td>\n",
       "      <td>40.759200</td>\n",
       "      <td>2 to 3</td>\n",
       "      <td>107.086333</td>\n",
       "      <td>19031</td>\n",
       "      <td>586</td>\n",
       "      <td>Image</td>\n",
       "      <td>Minimum Investment &amp; Maximum Profit</td>\n",
       "    </tr>\n",
       "  </tbody>\n",
       "</table>\n",
       "</div>"
      ],
      "text/plain": [
       "                                       Campaign name       Ad set name  \\\n",
       "0  CV - Franchise Lead Generation - Phase II - 3 Nov  IT Professionals   \n",
       "1  CV - Franchise Lead Generation - Phase II - 3 Nov       Remarketing   \n",
       "2  CV - Franchise Lead Generation - Phase II - 3 Nov   Business Owners   \n",
       "3  CV - Franchise Lead Generation - Phase II - 3 Nov   Business Owners   \n",
       "4  CV - Franchise Lead Generation - Phase II - 3 Nov       Remarketing   \n",
       "\n",
       "   Platform  Results  CTR (all)  Result rate  Amount spent (INR)  \\\n",
       "0  facebook     66.0   2.048234     0.203283         3581.630000   \n",
       "1  facebook     38.0   1.614188     0.131629         2243.260000   \n",
       "2  facebook     39.0   2.082948     0.180122         2564.862106   \n",
       "3  facebook     27.0   2.073127     0.139240         2321.700000   \n",
       "4  facebook     50.0   3.079187     0.262729         2037.960000   \n",
       "\n",
       "   Cost per result Frequency  CPM (cost per 1,000 impressions)  Impressions  \\\n",
       "0        54.267121    2 to 3                        110.316013        32467   \n",
       "1        59.033158    3 to 4                         77.704804        28869   \n",
       "2        65.765695    2 to 3                        118.458438        21652   \n",
       "3        85.988889    2 to 3                        119.730803        19391   \n",
       "4        40.759200    2 to 3                        107.086333        19031   \n",
       "\n",
       "   Clicks (all) Ad Format                          Ad Headline  \n",
       "0           665     Image  Minimum Investment & Maximum Profit  \n",
       "1           466     Image               Partner with us today!  \n",
       "2           451     Image  Minimum Investment & Maximum Profit  \n",
       "3           402     Video          No. 1 Franchise Opportunity  \n",
       "4           586     Image  Minimum Investment & Maximum Profit  "
      ]
     },
     "execution_count": 24,
     "metadata": {},
     "output_type": "execute_result"
    }
   ],
   "source": [
    "data.head()"
   ]
  },
  {
   "cell_type": "code",
   "execution_count": 25,
   "metadata": {},
   "outputs": [
    {
     "name": "stdout",
     "output_type": "stream",
     "text": [
      "<class 'pandas.core.frame.DataFrame'>\n",
      "Int64Index: 62 entries, 0 to 61\n",
      "Data columns (total 14 columns):\n",
      " #   Column                            Non-Null Count  Dtype  \n",
      "---  ------                            --------------  -----  \n",
      " 0   Campaign name                     62 non-null     object \n",
      " 1   Ad set name                       62 non-null     object \n",
      " 2   Platform                          62 non-null     object \n",
      " 3   Results                           62 non-null     float64\n",
      " 4   CTR (all)                         62 non-null     float64\n",
      " 5   Result rate                       62 non-null     float64\n",
      " 6   Amount spent (INR)                62 non-null     float64\n",
      " 7   Cost per result                   46 non-null     float64\n",
      " 8   Frequency                         62 non-null     object \n",
      " 9   CPM (cost per 1,000 impressions)  62 non-null     float64\n",
      " 10  Impressions                       62 non-null     int64  \n",
      " 11  Clicks (all)                      62 non-null     int64  \n",
      " 12  Ad Format                         62 non-null     object \n",
      " 13  Ad Headline                       62 non-null     object \n",
      "dtypes: float64(6), int64(2), object(6)\n",
      "memory usage: 7.3+ KB\n"
     ]
    }
   ],
   "source": [
    "data.info(verbose = 1)"
   ]
  },
  {
   "cell_type": "code",
   "execution_count": 26,
   "metadata": {},
   "outputs": [],
   "source": [
    "data.to_csv('Clean_Data_Platform.csv')"
   ]
  },
  {
   "cell_type": "markdown",
   "metadata": {},
   "source": [
    "## Now our data is clean. Here are our features that we will use for analysis\n",
    "\n",
    "- **1. Campaign Name** - Name of campaign\n",
    "- **2. Ad Set Name** - Targeting\n",
    "- **3. Platform** - Facebook / Instagram\n",
    "- **4. Results** - How many conversions were achieved\n",
    "- **5. Amount spent** - How much money was spent on ad campaign\n",
    "- **6. Frequency** - On an average how many times did one user see the ad\n",
    "- **7. Result Rate** - Conversion Rate\n",
    "- **8. CTR** - Click Through Rate\n",
    "- **9. CPM** - Cost per 1000 impressions\n",
    "- **10. Cost per result** - Average Cost required for 1 conversion\n",
    "- **11. Ad Format** - Whether the ad crative is **Image/Video/Carousel**\n",
    "- **12. Ad Headline** - The headline used in ad\n",
    "So, our target variable here is **Results** and we will analyse the effect of other variable on our target variable."
   ]
  },
  {
   "cell_type": "markdown",
   "metadata": {},
   "source": [
    "# 3. Relationship Visualization"
   ]
  },
  {
   "cell_type": "markdown",
   "metadata": {
    "scrolled": false
   },
   "source": [
    "### 1. Effect of Platform + Ad Format"
   ]
  },
  {
   "cell_type": "code",
   "execution_count": 27,
   "metadata": {},
   "outputs": [
    {
     "data": {
      "image/png": "[encoded data removed]",
      "text/plain": [
       "<Figure size 1440x360 with 6 Axes>"
      ]
     },
     "metadata": {
      "needs_background": "light"
     },
     "output_type": "display_data"
    }
   ],
   "source": [
    "# increase figure size \n",
    "plt.figure(figsize = (20, 5))\n",
    "\n",
    "# subplot 1\n",
    "plt.subplot(1, 6, 1)\n",
    "sns.barplot(x = 'Platform', y = 'Amount spent (INR)', data = data, hue = 'Ad Format', estimator = np.sum, ci = None)\n",
    "plt.title(\"Total Amount Spent\")\n",
    "plt.xticks(rotation = 90)\n",
    "\n",
    "\n",
    "# subplot 2\n",
    "plt.subplot(1, 6, 2)\n",
    "sns.barplot(x = 'Platform', y = 'Clicks (all)', data = data, hue = 'Ad Format', estimator = np.sum, ci = None)\n",
    "plt.title(\"Total Clicks\")\n",
    "plt.xticks(rotation = 90)\n",
    "\n",
    "# subplot 3\n",
    "plt.subplot(1, 6, 3)\n",
    "sns.barplot(x = 'Platform', y = 'CTR (all)', data = data, hue = 'Ad Format', estimator = np.sum, ci = None)\n",
    "plt.title(\"CTR\")\n",
    "plt.xticks(rotation = 90)\n",
    "\n",
    "# subplot 4\n",
    "plt.subplot(1, 6, 4)\n",
    "sns.barplot(x = 'Platform', y = 'Results', data = data, hue = 'Ad Format', estimator = np.sum, ci = None)\n",
    "plt.title(\"Total Conversions\")\n",
    "plt.xticks(rotation = 90)\n",
    "\n",
    "# subplot 5\n",
    "plt.subplot(1, 6, 5)\n",
    "sns.barplot(x = 'Platform', y = 'Cost per result', data = data, hue = 'Ad Format', estimator = np.sum, ci = None)\n",
    "plt.title(\"Avg. Cost per Conversion\")\n",
    "plt.xticks(rotation = 90)\n",
    "\n",
    "# subplot 6\n",
    "plt.subplot(1,6, 6)\n",
    "sns.barplot(x = 'Platform', y = 'Result rate', data = data, hue = 'Ad Format', estimator = np.sum, ci = None)\n",
    "plt.title(\"CVR\")\n",
    "plt.xticks(rotation = 90)\n",
    "\n",
    "\n",
    "plt.tight_layout(pad = 0.7)\n",
    "plt.show()"
   ]
  },
  {
   "cell_type": "markdown",
   "metadata": {},
   "source": [
    "### 2. Effect of Platform + Frequency"
   ]
  },
  {
   "cell_type": "code",
   "execution_count": 32,
   "metadata": {},
   "outputs": [],
   "source": [
    "data = data.sort_values(by = ['Frequency']) "
   ]
  },
  {
   "cell_type": "code",
   "execution_count": 33,
   "metadata": {
    "scrolled": false
   },
   "outputs": [
    {
     "data": {
      "image/png": "[encoded data removed]",
      "text/plain": [
       "<Figure size 1800x432 with 6 Axes>"
      ]
     },
     "metadata": {
      "needs_background": "light"
     },
     "output_type": "display_data"
    }
   ],
   "source": [
    "# increase figure size \n",
    "plt.figure(figsize = (25, 6))\n",
    "\n",
    "# subplot 1\n",
    "plt.subplot(1, 6, 1)\n",
    "sns.barplot(hue = 'Platform', y = 'Amount spent (INR)', data = data, x = 'Frequency', estimator = np.sum, ci = None)\n",
    "plt.title(\"Total Amount Spent\")\n",
    "plt.xticks(rotation = 90)\n",
    "\n",
    "\n",
    "# subplot 2\n",
    "plt.subplot(1, 6, 2)\n",
    "sns.barplot(hue = 'Platform', y = 'Clicks (all)', data = data, x = 'Frequency', estimator = np.sum, ci = None)\n",
    "plt.title(\"Total Clicks\")\n",
    "plt.xticks(rotation = 90)\n",
    "\n",
    "# subplot 3\n",
    "plt.subplot(1, 6, 3)\n",
    "sns.barplot(hue = 'Platform', y = 'CTR (all)', data = data, x = 'Frequency', estimator = np.sum, ci = None)\n",
    "plt.title(\"CTR\")\n",
    "plt.xticks(rotation = 90)\n",
    "\n",
    "# subplot 4\n",
    "plt.subplot(1, 6, 4)\n",
    "sns.barplot(hue = 'Platform', y = 'Results', data = data, x = 'Frequency', estimator = np.sum, ci = None)\n",
    "plt.title(\"Total Conversions\")\n",
    "plt.xticks(rotation = 90)\n",
    "\n",
    "# subplot 5\n",
    "plt.subplot(1, 6, 5)\n",
    "sns.barplot(hue = 'Platform', y = 'Cost per result', data = data, x = 'Frequency', estimator = np.sum, ci = None)\n",
    "plt.title(\"Avg. Cost per Conversion\")\n",
    "plt.xticks(rotation = 90)\n",
    "\n",
    "# subplot 6\n",
    "plt.subplot(1, 6, 6)\n",
    "sns.barplot(hue = 'Platform', y = 'Result rate', data = data, x = 'Frequency', estimator = np.sum, ci = None)\n",
    "plt.title(\"CVR\")\n",
    "plt.xticks(rotation = 90)\n",
    "\n",
    "plt.tight_layout(pad = 0.7)\n",
    "plt.show()"
   ]
  }
 ],
 "metadata": {
  "kernelspec": {
   "display_name": "Python 3",
   "language": "python",
   "name": "python3"
  },
  "language_info": {
   "codemirror_mode": {
    "name": "ipython",
    "version": 3
   },
   "file_extension": ".py",
   "mimetype": "text/x-python",
   "name": "python",
   "nbconvert_exporter": "python",
   "pygments_lexer": "ipython3",
   "version": "3.7.6"
  }
 },
 "nbformat": 4,
 "nbformat_minor": 2
}
