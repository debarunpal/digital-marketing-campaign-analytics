{
 "cells": [
  {
   "cell_type": "code",
   "execution_count": 1,
   "metadata": {},
   "outputs": [],
   "source": [
    "#import libraries\n",
    "import pandas as pd\n",
    "import numpy as np\n",
    "import matplotlib.pyplot as plt\n",
    "import seaborn as sns\n",
    "sns.set(font_scale = 1.2, style = 'darkgrid')\n",
    "\n",
    "%matplotlib inline\n",
    "\n",
    "import warnings\n",
    "warnings.filterwarnings(\"ignore\")"
   ]
  },
  {
   "cell_type": "code",
   "execution_count": 2,
   "metadata": {},
   "outputs": [
    {
     "data": {
      "text/html": [
       "<style>.container { width:100% !important; }</style>"
      ],
      "text/plain": [
       "<IPython.core.display.HTML object>"
      ]
     },
     "metadata": {},
     "output_type": "display_data"
    }
   ],
   "source": [
    "#change display into using full screen\n",
    "from IPython.core.display import display, HTML\n",
    "display(HTML(\"<style>.container { width:100% !important; }</style>\"))"
   ]
  },
  {
   "cell_type": "code",
   "execution_count": 3,
   "metadata": {},
   "outputs": [],
   "source": [
    "#import .csv file\n",
    "data = pd.read_csv('FB_data_age_gender.csv')"
   ]
  },
  {
   "cell_type": "markdown",
   "metadata": {},
   "source": [
    "# 1. Data Exploration & Cleaning"
   ]
  },
  {
   "cell_type": "markdown",
   "metadata": {},
   "source": [
    "### 1. Have a first look at data"
   ]
  },
  {
   "cell_type": "code",
   "execution_count": 4,
   "metadata": {},
   "outputs": [
    {
     "data": {
      "text/html": [
       "<div>\n",
       "<style scoped>\n",
       "    .dataframe tbody tr th:only-of-type {\n",
       "        vertical-align: middle;\n",
       "    }\n",
       "\n",
       "    .dataframe tbody tr th {\n",
       "        vertical-align: top;\n",
       "    }\n",
       "\n",
       "    .dataframe thead th {\n",
       "        text-align: right;\n",
       "    }\n",
       "</style>\n",
       "<table border=\"1\" class=\"dataframe\">\n",
       "  <thead>\n",
       "    <tr style=\"text-align: right;\">\n",
       "      <th></th>\n",
       "      <th>Campaign name</th>\n",
       "      <th>Ad set name</th>\n",
       "      <th>Ad name</th>\n",
       "      <th>Age</th>\n",
       "      <th>Gender</th>\n",
       "      <th>Result Type</th>\n",
       "      <th>Results</th>\n",
       "      <th>CTR (all)</th>\n",
       "      <th>Result rate</th>\n",
       "      <th>Amount spent (INR)</th>\n",
       "      <th>Cost per result</th>\n",
       "      <th>Frequency</th>\n",
       "      <th>CPM (cost per 1,000 impressions)</th>\n",
       "      <th>Impressions</th>\n",
       "      <th>Clicks (all)</th>\n",
       "      <th>Reporting starts</th>\n",
       "      <th>Reporting ends</th>\n",
       "    </tr>\n",
       "  </thead>\n",
       "  <tbody>\n",
       "    <tr>\n",
       "      <th>0</th>\n",
       "      <td>CV - Franchise Lead Generation - Phase II - 3 Nov</td>\n",
       "      <td>Remarketing</td>\n",
       "      <td>Image-Partner with us today!</td>\n",
       "      <td>25-34</td>\n",
       "      <td>male</td>\n",
       "      <td>On-Facebook leads</td>\n",
       "      <td>23.0</td>\n",
       "      <td>1.276185</td>\n",
       "      <td>0.116941</td>\n",
       "      <td>1834.360000</td>\n",
       "      <td>79.754783</td>\n",
       "      <td>3.395718</td>\n",
       "      <td>93.266219</td>\n",
       "      <td>19668</td>\n",
       "      <td>251</td>\n",
       "      <td>2019-11-01</td>\n",
       "      <td>2019-12-03</td>\n",
       "    </tr>\n",
       "    <tr>\n",
       "      <th>1</th>\n",
       "      <td>CV - Franchise Lead Generation - Phase II - 3 Nov</td>\n",
       "      <td>IT Professionals</td>\n",
       "      <td>Image-Minimum Investment &amp; Maximum Profit</td>\n",
       "      <td>25-34</td>\n",
       "      <td>male</td>\n",
       "      <td>On-Facebook leads</td>\n",
       "      <td>37.0</td>\n",
       "      <td>1.911363</td>\n",
       "      <td>0.194287</td>\n",
       "      <td>1998.870000</td>\n",
       "      <td>54.023514</td>\n",
       "      <td>2.938889</td>\n",
       "      <td>104.960618</td>\n",
       "      <td>19044</td>\n",
       "      <td>364</td>\n",
       "      <td>2019-11-01</td>\n",
       "      <td>2019-12-03</td>\n",
       "    </tr>\n",
       "    <tr>\n",
       "      <th>2</th>\n",
       "      <td>CV - Franchise Lead Generation - Phase II - 3 Nov</td>\n",
       "      <td>Remarketing</td>\n",
       "      <td>Image-Partner with us today!</td>\n",
       "      <td>18-24</td>\n",
       "      <td>male</td>\n",
       "      <td>On-Facebook leads</td>\n",
       "      <td>26.0</td>\n",
       "      <td>1.407616</td>\n",
       "      <td>0.192621</td>\n",
       "      <td>1142.540000</td>\n",
       "      <td>43.943846</td>\n",
       "      <td>3.180490</td>\n",
       "      <td>84.645133</td>\n",
       "      <td>13498</td>\n",
       "      <td>190</td>\n",
       "      <td>2019-11-01</td>\n",
       "      <td>2019-12-03</td>\n",
       "    </tr>\n",
       "    <tr>\n",
       "      <th>3</th>\n",
       "      <td>CV - Franchise Lead Generation - Phase II - 3 Nov</td>\n",
       "      <td>Remarketing</td>\n",
       "      <td>Image-Minimum Investment &amp; Maximum Profit</td>\n",
       "      <td>25-34</td>\n",
       "      <td>male</td>\n",
       "      <td>On-Facebook leads</td>\n",
       "      <td>35.0</td>\n",
       "      <td>2.858252</td>\n",
       "      <td>0.271845</td>\n",
       "      <td>1583.980000</td>\n",
       "      <td>45.256571</td>\n",
       "      <td>2.715099</td>\n",
       "      <td>123.027573</td>\n",
       "      <td>12875</td>\n",
       "      <td>368</td>\n",
       "      <td>2019-11-01</td>\n",
       "      <td>2019-12-03</td>\n",
       "    </tr>\n",
       "    <tr>\n",
       "      <th>4</th>\n",
       "      <td>CV - Franchise Lead Generation - Phase II - 3 Nov</td>\n",
       "      <td>Business Owners</td>\n",
       "      <td>Image-Minimum Investment &amp; Maximum Profit</td>\n",
       "      <td>25-34</td>\n",
       "      <td>male</td>\n",
       "      <td>On-Facebook leads</td>\n",
       "      <td>19.0</td>\n",
       "      <td>1.735488</td>\n",
       "      <td>0.162435</td>\n",
       "      <td>1274.856313</td>\n",
       "      <td>67.097701</td>\n",
       "      <td>2.381311</td>\n",
       "      <td>108.990024</td>\n",
       "      <td>11697</td>\n",
       "      <td>203</td>\n",
       "      <td>2019-11-01</td>\n",
       "      <td>2019-12-03</td>\n",
       "    </tr>\n",
       "  </tbody>\n",
       "</table>\n",
       "</div>"
      ],
      "text/plain": [
       "                                       Campaign name       Ad set name  \\\n",
       "0  CV - Franchise Lead Generation - Phase II - 3 Nov       Remarketing   \n",
       "1  CV - Franchise Lead Generation - Phase II - 3 Nov  IT Professionals   \n",
       "2  CV - Franchise Lead Generation - Phase II - 3 Nov       Remarketing   \n",
       "3  CV - Franchise Lead Generation - Phase II - 3 Nov       Remarketing   \n",
       "4  CV - Franchise Lead Generation - Phase II - 3 Nov   Business Owners   \n",
       "\n",
       "                                     Ad name    Age Gender        Result Type  \\\n",
       "0               Image-Partner with us today!  25-34   male  On-Facebook leads   \n",
       "1  Image-Minimum Investment & Maximum Profit  25-34   male  On-Facebook leads   \n",
       "2               Image-Partner with us today!  18-24   male  On-Facebook leads   \n",
       "3  Image-Minimum Investment & Maximum Profit  25-34   male  On-Facebook leads   \n",
       "4  Image-Minimum Investment & Maximum Profit  25-34   male  On-Facebook leads   \n",
       "\n",
       "   Results  CTR (all)  Result rate  Amount spent (INR)  Cost per result  \\\n",
       "0     23.0   1.276185     0.116941         1834.360000        79.754783   \n",
       "1     37.0   1.911363     0.194287         1998.870000        54.023514   \n",
       "2     26.0   1.407616     0.192621         1142.540000        43.943846   \n",
       "3     35.0   2.858252     0.271845         1583.980000        45.256571   \n",
       "4     19.0   1.735488     0.162435         1274.856313        67.097701   \n",
       "\n",
       "   Frequency  CPM (cost per 1,000 impressions)  Impressions  Clicks (all)  \\\n",
       "0   3.395718                         93.266219        19668           251   \n",
       "1   2.938889                        104.960618        19044           364   \n",
       "2   3.180490                         84.645133        13498           190   \n",
       "3   2.715099                        123.027573        12875           368   \n",
       "4   2.381311                        108.990024        11697           203   \n",
       "\n",
       "  Reporting starts Reporting ends  \n",
       "0       2019-11-01     2019-12-03  \n",
       "1       2019-11-01     2019-12-03  \n",
       "2       2019-11-01     2019-12-03  \n",
       "3       2019-11-01     2019-12-03  \n",
       "4       2019-11-01     2019-12-03  "
      ]
     },
     "execution_count": 4,
     "metadata": {},
     "output_type": "execute_result"
    }
   ],
   "source": [
    "data.head()"
   ]
  },
  {
   "cell_type": "code",
   "execution_count": 5,
   "metadata": {},
   "outputs": [],
   "source": [
    "#Consider only those records where amount spent > 0\n",
    "data = data[(data['Amount spent (INR)'] > 0)]"
   ]
  },
  {
   "cell_type": "code",
   "execution_count": 6,
   "metadata": {},
   "outputs": [
    {
     "data": {
      "text/plain": [
       "(349, 17)"
      ]
     },
     "execution_count": 6,
     "metadata": {},
     "output_type": "execute_result"
    }
   ],
   "source": [
    "data.shape"
   ]
  },
  {
   "cell_type": "markdown",
   "metadata": {},
   "source": [
    "### 2. Drop Columns that are extra"
   ]
  },
  {
   "cell_type": "code",
   "execution_count": 7,
   "metadata": {},
   "outputs": [],
   "source": [
    "#We see that Reporting Starts and Reporting Ends are additional columns which we don't require. So we drop them\n",
    "data.drop(['Reporting ends','Reporting starts'],axis = 1, inplace = True)"
   ]
  },
  {
   "cell_type": "code",
   "execution_count": 8,
   "metadata": {},
   "outputs": [
    {
     "data": {
      "text/html": [
       "<div>\n",
       "<style scoped>\n",
       "    .dataframe tbody tr th:only-of-type {\n",
       "        vertical-align: middle;\n",
       "    }\n",
       "\n",
       "    .dataframe tbody tr th {\n",
       "        vertical-align: top;\n",
       "    }\n",
       "\n",
       "    .dataframe thead th {\n",
       "        text-align: right;\n",
       "    }\n",
       "</style>\n",
       "<table border=\"1\" class=\"dataframe\">\n",
       "  <thead>\n",
       "    <tr style=\"text-align: right;\">\n",
       "      <th></th>\n",
       "      <th>Campaign name</th>\n",
       "      <th>Ad set name</th>\n",
       "      <th>Ad name</th>\n",
       "      <th>Age</th>\n",
       "      <th>Gender</th>\n",
       "      <th>Result Type</th>\n",
       "      <th>Results</th>\n",
       "      <th>CTR (all)</th>\n",
       "      <th>Result rate</th>\n",
       "      <th>Amount spent (INR)</th>\n",
       "      <th>Cost per result</th>\n",
       "      <th>Frequency</th>\n",
       "      <th>CPM (cost per 1,000 impressions)</th>\n",
       "      <th>Impressions</th>\n",
       "      <th>Clicks (all)</th>\n",
       "    </tr>\n",
       "  </thead>\n",
       "  <tbody>\n",
       "    <tr>\n",
       "      <th>0</th>\n",
       "      <td>CV - Franchise Lead Generation - Phase II - 3 Nov</td>\n",
       "      <td>Remarketing</td>\n",
       "      <td>Image-Partner with us today!</td>\n",
       "      <td>25-34</td>\n",
       "      <td>male</td>\n",
       "      <td>On-Facebook leads</td>\n",
       "      <td>23.0</td>\n",
       "      <td>1.276185</td>\n",
       "      <td>0.116941</td>\n",
       "      <td>1834.360000</td>\n",
       "      <td>79.754783</td>\n",
       "      <td>3.395718</td>\n",
       "      <td>93.266219</td>\n",
       "      <td>19668</td>\n",
       "      <td>251</td>\n",
       "    </tr>\n",
       "    <tr>\n",
       "      <th>1</th>\n",
       "      <td>CV - Franchise Lead Generation - Phase II - 3 Nov</td>\n",
       "      <td>IT Professionals</td>\n",
       "      <td>Image-Minimum Investment &amp; Maximum Profit</td>\n",
       "      <td>25-34</td>\n",
       "      <td>male</td>\n",
       "      <td>On-Facebook leads</td>\n",
       "      <td>37.0</td>\n",
       "      <td>1.911363</td>\n",
       "      <td>0.194287</td>\n",
       "      <td>1998.870000</td>\n",
       "      <td>54.023514</td>\n",
       "      <td>2.938889</td>\n",
       "      <td>104.960618</td>\n",
       "      <td>19044</td>\n",
       "      <td>364</td>\n",
       "    </tr>\n",
       "    <tr>\n",
       "      <th>2</th>\n",
       "      <td>CV - Franchise Lead Generation - Phase II - 3 Nov</td>\n",
       "      <td>Remarketing</td>\n",
       "      <td>Image-Partner with us today!</td>\n",
       "      <td>18-24</td>\n",
       "      <td>male</td>\n",
       "      <td>On-Facebook leads</td>\n",
       "      <td>26.0</td>\n",
       "      <td>1.407616</td>\n",
       "      <td>0.192621</td>\n",
       "      <td>1142.540000</td>\n",
       "      <td>43.943846</td>\n",
       "      <td>3.180490</td>\n",
       "      <td>84.645133</td>\n",
       "      <td>13498</td>\n",
       "      <td>190</td>\n",
       "    </tr>\n",
       "    <tr>\n",
       "      <th>3</th>\n",
       "      <td>CV - Franchise Lead Generation - Phase II - 3 Nov</td>\n",
       "      <td>Remarketing</td>\n",
       "      <td>Image-Minimum Investment &amp; Maximum Profit</td>\n",
       "      <td>25-34</td>\n",
       "      <td>male</td>\n",
       "      <td>On-Facebook leads</td>\n",
       "      <td>35.0</td>\n",
       "      <td>2.858252</td>\n",
       "      <td>0.271845</td>\n",
       "      <td>1583.980000</td>\n",
       "      <td>45.256571</td>\n",
       "      <td>2.715099</td>\n",
       "      <td>123.027573</td>\n",
       "      <td>12875</td>\n",
       "      <td>368</td>\n",
       "    </tr>\n",
       "    <tr>\n",
       "      <th>4</th>\n",
       "      <td>CV - Franchise Lead Generation - Phase II - 3 Nov</td>\n",
       "      <td>Business Owners</td>\n",
       "      <td>Image-Minimum Investment &amp; Maximum Profit</td>\n",
       "      <td>25-34</td>\n",
       "      <td>male</td>\n",
       "      <td>On-Facebook leads</td>\n",
       "      <td>19.0</td>\n",
       "      <td>1.735488</td>\n",
       "      <td>0.162435</td>\n",
       "      <td>1274.856313</td>\n",
       "      <td>67.097701</td>\n",
       "      <td>2.381311</td>\n",
       "      <td>108.990024</td>\n",
       "      <td>11697</td>\n",
       "      <td>203</td>\n",
       "    </tr>\n",
       "  </tbody>\n",
       "</table>\n",
       "</div>"
      ],
      "text/plain": [
       "                                       Campaign name       Ad set name  \\\n",
       "0  CV - Franchise Lead Generation - Phase II - 3 Nov       Remarketing   \n",
       "1  CV - Franchise Lead Generation - Phase II - 3 Nov  IT Professionals   \n",
       "2  CV - Franchise Lead Generation - Phase II - 3 Nov       Remarketing   \n",
       "3  CV - Franchise Lead Generation - Phase II - 3 Nov       Remarketing   \n",
       "4  CV - Franchise Lead Generation - Phase II - 3 Nov   Business Owners   \n",
       "\n",
       "                                     Ad name    Age Gender        Result Type  \\\n",
       "0               Image-Partner with us today!  25-34   male  On-Facebook leads   \n",
       "1  Image-Minimum Investment & Maximum Profit  25-34   male  On-Facebook leads   \n",
       "2               Image-Partner with us today!  18-24   male  On-Facebook leads   \n",
       "3  Image-Minimum Investment & Maximum Profit  25-34   male  On-Facebook leads   \n",
       "4  Image-Minimum Investment & Maximum Profit  25-34   male  On-Facebook leads   \n",
       "\n",
       "   Results  CTR (all)  Result rate  Amount spent (INR)  Cost per result  \\\n",
       "0     23.0   1.276185     0.116941         1834.360000        79.754783   \n",
       "1     37.0   1.911363     0.194287         1998.870000        54.023514   \n",
       "2     26.0   1.407616     0.192621         1142.540000        43.943846   \n",
       "3     35.0   2.858252     0.271845         1583.980000        45.256571   \n",
       "4     19.0   1.735488     0.162435         1274.856313        67.097701   \n",
       "\n",
       "   Frequency  CPM (cost per 1,000 impressions)  Impressions  Clicks (all)  \n",
       "0   3.395718                         93.266219        19668           251  \n",
       "1   2.938889                        104.960618        19044           364  \n",
       "2   3.180490                         84.645133        13498           190  \n",
       "3   2.715099                        123.027573        12875           368  \n",
       "4   2.381311                        108.990024        11697           203  "
      ]
     },
     "execution_count": 8,
     "metadata": {},
     "output_type": "execute_result"
    }
   ],
   "source": [
    "#look at the data again\n",
    "data.head()"
   ]
  },
  {
   "cell_type": "code",
   "execution_count": 9,
   "metadata": {},
   "outputs": [
    {
     "data": {
      "text/plain": [
       "(349, 15)"
      ]
     },
     "execution_count": 9,
     "metadata": {},
     "output_type": "execute_result"
    }
   ],
   "source": [
    "#check rows and columns in data\n",
    "data.shape"
   ]
  },
  {
   "cell_type": "markdown",
   "metadata": {},
   "source": [
    "#### So, there are 349 rows and 15 columns in the data"
   ]
  },
  {
   "cell_type": "markdown",
   "metadata": {},
   "source": [
    "### 3. Deal with Null Values"
   ]
  },
  {
   "cell_type": "code",
   "execution_count": 10,
   "metadata": {},
   "outputs": [
    {
     "data": {
      "text/plain": [
       "Campaign name                         0\n",
       "Ad set name                           0\n",
       "Ad name                               0\n",
       "Age                                   0\n",
       "Gender                                0\n",
       "Result Type                         245\n",
       "Results                             245\n",
       "CTR (all)                             0\n",
       "Result rate                         245\n",
       "Amount spent (INR)                    0\n",
       "Cost per result                     245\n",
       "Frequency                             0\n",
       "CPM (cost per 1,000 impressions)      0\n",
       "Impressions                           0\n",
       "Clicks (all)                          0\n",
       "dtype: int64"
      ]
     },
     "execution_count": 10,
     "metadata": {},
     "output_type": "execute_result"
    }
   ],
   "source": [
    "#let's look if any column has null values\n",
    "data.isnull().sum()"
   ]
  },
  {
   "cell_type": "markdown",
   "metadata": {},
   "source": [
    "#### From this we can infer that some columns have Null values (basically blank). Let's look at them:\n",
    "**1. Results & Result Type:** This happened when there was no conversion (Result).\n",
    "\n",
    "**2. Result rate, Cost per result:** As both these metrics depend on Result, so these are also blank. \n",
    "\n",
    "This was bound to happen because not every single day and every ad got a result (conversion). **So it is safe to replace all nulls in Results and Result rate column with 0.**"
   ]
  },
  {
   "cell_type": "code",
   "execution_count": 11,
   "metadata": {},
   "outputs": [],
   "source": [
    "#Fill all blanks in Results with 0\n",
    "data['Results'] = data['Results'].fillna(0)\n",
    "data['Result rate'] = data['Result rate'].fillna(0)"
   ]
  },
  {
   "cell_type": "code",
   "execution_count": 12,
   "metadata": {},
   "outputs": [
    {
     "data": {
      "text/plain": [
       "Campaign name                         0\n",
       "Ad set name                           0\n",
       "Ad name                               0\n",
       "Age                                   0\n",
       "Gender                                0\n",
       "Result Type                         245\n",
       "Results                               0\n",
       "CTR (all)                             0\n",
       "Result rate                           0\n",
       "Amount spent (INR)                    0\n",
       "Cost per result                     245\n",
       "Frequency                             0\n",
       "CPM (cost per 1,000 impressions)      0\n",
       "Impressions                           0\n",
       "Clicks (all)                          0\n",
       "dtype: int64"
      ]
     },
     "execution_count": 12,
     "metadata": {},
     "output_type": "execute_result"
    }
   ],
   "source": [
    "#check how many nulls are still there \n",
    "data.isnull().sum()"
   ]
  },
  {
   "cell_type": "markdown",
   "metadata": {},
   "source": [
    "#### Voila! Results & Result rate column has no nulls now. Let's see what column Results Type is all about. "
   ]
  },
  {
   "cell_type": "code",
   "execution_count": 13,
   "metadata": {},
   "outputs": [
    {
     "data": {
      "text/plain": [
       "On-Facebook leads    104\n",
       "Name: Result Type, dtype: int64"
      ]
     },
     "execution_count": 13,
     "metadata": {},
     "output_type": "execute_result"
    }
   ],
   "source": [
    "data['Result Type'].value_counts()"
   ]
  },
  {
   "cell_type": "markdown",
   "metadata": {},
   "source": [
    "So we infer that 'Result Type' is basically the type of conversion event taking place. It can be either Page Like, Post Like, On-Facebook Lead, Custom Conversion etc. **Since, we are analysing just one campaign here, we can drop this column as it has same meaning throughout data set.**\n",
    "\n",
    "If we were analysing multiple campaigns, with different objectives, then keeping this column would have made sense."
   ]
  },
  {
   "cell_type": "code",
   "execution_count": 14,
   "metadata": {},
   "outputs": [],
   "source": [
    "#Drop Result Type column from data\n",
    "data.drop(['Result Type'],axis = 1, inplace = True)"
   ]
  },
  {
   "cell_type": "code",
   "execution_count": 15,
   "metadata": {},
   "outputs": [
    {
     "data": {
      "text/plain": [
       "Campaign name                         0\n",
       "Ad set name                           0\n",
       "Ad name                               0\n",
       "Age                                   0\n",
       "Gender                                0\n",
       "Results                               0\n",
       "CTR (all)                             0\n",
       "Result rate                           0\n",
       "Amount spent (INR)                    0\n",
       "Cost per result                     245\n",
       "Frequency                             0\n",
       "CPM (cost per 1,000 impressions)      0\n",
       "Impressions                           0\n",
       "Clicks (all)                          0\n",
       "dtype: int64"
      ]
     },
     "execution_count": 15,
     "metadata": {},
     "output_type": "execute_result"
    }
   ],
   "source": [
    "#check how many nulls are still there \n",
    "data.isnull().sum()"
   ]
  },
  {
   "cell_type": "markdown",
   "metadata": {},
   "source": [
    "Now we need to deal with **Cost per result**.\n",
    "The cases where CPA is Null means that there was no conversion. So ideally, in these cases the CPA should be very high (in case a conversion actually happened)."
   ]
  },
  {
   "cell_type": "markdown",
   "metadata": {},
   "source": [
    "#### So, let's leave this column as it is because we can't assign any value for records where no conversion happened."
   ]
  },
  {
   "cell_type": "code",
   "execution_count": 16,
   "metadata": {},
   "outputs": [
    {
     "name": "stdout",
     "output_type": "stream",
     "text": [
      "<class 'pandas.core.frame.DataFrame'>\n",
      "Int64Index: 349 entries, 0 to 349\n",
      "Data columns (total 14 columns):\n",
      " #   Column                            Non-Null Count  Dtype  \n",
      "---  ------                            --------------  -----  \n",
      " 0   Campaign name                     349 non-null    object \n",
      " 1   Ad set name                       349 non-null    object \n",
      " 2   Ad name                           349 non-null    object \n",
      " 3   Age                               349 non-null    object \n",
      " 4   Gender                            349 non-null    object \n",
      " 5   Results                           349 non-null    float64\n",
      " 6   CTR (all)                         349 non-null    float64\n",
      " 7   Result rate                       349 non-null    float64\n",
      " 8   Amount spent (INR)                349 non-null    float64\n",
      " 9   Cost per result                   104 non-null    float64\n",
      " 10  Frequency                         349 non-null    float64\n",
      " 11  CPM (cost per 1,000 impressions)  349 non-null    float64\n",
      " 12  Impressions                       349 non-null    int64  \n",
      " 13  Clicks (all)                      349 non-null    int64  \n",
      "dtypes: float64(7), int64(2), object(5)\n",
      "memory usage: 40.9+ KB\n"
     ]
    }
   ],
   "source": [
    "#Have a look at data\n",
    "data.info()"
   ]
  },
  {
   "cell_type": "markdown",
   "metadata": {},
   "source": [
    "# 2. Feature Engineering"
   ]
  },
  {
   "cell_type": "markdown",
   "metadata": {},
   "source": [
    "Make new and better features from using the current available features"
   ]
  },
  {
   "cell_type": "markdown",
   "metadata": {},
   "source": [
    "### 1. We can divide Frequency in buckets"
   ]
  },
  {
   "cell_type": "code",
   "execution_count": 17,
   "metadata": {},
   "outputs": [],
   "source": [
    "data['Frequency'] = data['Frequency'].apply(lambda x:'1 to 2' if x<2\n",
    "                                               else '2 to 3' if x>=2 and x<3 \n",
    "                                               else '3 to 4' if x>=3 and x<4\n",
    "                                               else '4 to 5' if x>=4 and x<5\n",
    "                                               else 'More than 5')"
   ]
  },
  {
   "cell_type": "code",
   "execution_count": 18,
   "metadata": {},
   "outputs": [
    {
     "data": {
      "text/html": [
       "<div>\n",
       "<style scoped>\n",
       "    .dataframe tbody tr th:only-of-type {\n",
       "        vertical-align: middle;\n",
       "    }\n",
       "\n",
       "    .dataframe tbody tr th {\n",
       "        vertical-align: top;\n",
       "    }\n",
       "\n",
       "    .dataframe thead th {\n",
       "        text-align: right;\n",
       "    }\n",
       "</style>\n",
       "<table border=\"1\" class=\"dataframe\">\n",
       "  <thead>\n",
       "    <tr style=\"text-align: right;\">\n",
       "      <th></th>\n",
       "      <th>Campaign name</th>\n",
       "      <th>Ad set name</th>\n",
       "      <th>Ad name</th>\n",
       "      <th>Age</th>\n",
       "      <th>Gender</th>\n",
       "      <th>Results</th>\n",
       "      <th>CTR (all)</th>\n",
       "      <th>Result rate</th>\n",
       "      <th>Amount spent (INR)</th>\n",
       "      <th>Cost per result</th>\n",
       "      <th>Frequency</th>\n",
       "      <th>CPM (cost per 1,000 impressions)</th>\n",
       "      <th>Impressions</th>\n",
       "      <th>Clicks (all)</th>\n",
       "    </tr>\n",
       "  </thead>\n",
       "  <tbody>\n",
       "    <tr>\n",
       "      <th>0</th>\n",
       "      <td>CV - Franchise Lead Generation - Phase II - 3 Nov</td>\n",
       "      <td>Remarketing</td>\n",
       "      <td>Image-Partner with us today!</td>\n",
       "      <td>25-34</td>\n",
       "      <td>male</td>\n",
       "      <td>23.0</td>\n",
       "      <td>1.276185</td>\n",
       "      <td>0.116941</td>\n",
       "      <td>1834.360000</td>\n",
       "      <td>79.754783</td>\n",
       "      <td>3 to 4</td>\n",
       "      <td>93.266219</td>\n",
       "      <td>19668</td>\n",
       "      <td>251</td>\n",
       "    </tr>\n",
       "    <tr>\n",
       "      <th>1</th>\n",
       "      <td>CV - Franchise Lead Generation - Phase II - 3 Nov</td>\n",
       "      <td>IT Professionals</td>\n",
       "      <td>Image-Minimum Investment &amp; Maximum Profit</td>\n",
       "      <td>25-34</td>\n",
       "      <td>male</td>\n",
       "      <td>37.0</td>\n",
       "      <td>1.911363</td>\n",
       "      <td>0.194287</td>\n",
       "      <td>1998.870000</td>\n",
       "      <td>54.023514</td>\n",
       "      <td>2 to 3</td>\n",
       "      <td>104.960618</td>\n",
       "      <td>19044</td>\n",
       "      <td>364</td>\n",
       "    </tr>\n",
       "    <tr>\n",
       "      <th>2</th>\n",
       "      <td>CV - Franchise Lead Generation - Phase II - 3 Nov</td>\n",
       "      <td>Remarketing</td>\n",
       "      <td>Image-Partner with us today!</td>\n",
       "      <td>18-24</td>\n",
       "      <td>male</td>\n",
       "      <td>26.0</td>\n",
       "      <td>1.407616</td>\n",
       "      <td>0.192621</td>\n",
       "      <td>1142.540000</td>\n",
       "      <td>43.943846</td>\n",
       "      <td>3 to 4</td>\n",
       "      <td>84.645133</td>\n",
       "      <td>13498</td>\n",
       "      <td>190</td>\n",
       "    </tr>\n",
       "    <tr>\n",
       "      <th>3</th>\n",
       "      <td>CV - Franchise Lead Generation - Phase II - 3 Nov</td>\n",
       "      <td>Remarketing</td>\n",
       "      <td>Image-Minimum Investment &amp; Maximum Profit</td>\n",
       "      <td>25-34</td>\n",
       "      <td>male</td>\n",
       "      <td>35.0</td>\n",
       "      <td>2.858252</td>\n",
       "      <td>0.271845</td>\n",
       "      <td>1583.980000</td>\n",
       "      <td>45.256571</td>\n",
       "      <td>2 to 3</td>\n",
       "      <td>123.027573</td>\n",
       "      <td>12875</td>\n",
       "      <td>368</td>\n",
       "    </tr>\n",
       "    <tr>\n",
       "      <th>4</th>\n",
       "      <td>CV - Franchise Lead Generation - Phase II - 3 Nov</td>\n",
       "      <td>Business Owners</td>\n",
       "      <td>Image-Minimum Investment &amp; Maximum Profit</td>\n",
       "      <td>25-34</td>\n",
       "      <td>male</td>\n",
       "      <td>19.0</td>\n",
       "      <td>1.735488</td>\n",
       "      <td>0.162435</td>\n",
       "      <td>1274.856313</td>\n",
       "      <td>67.097701</td>\n",
       "      <td>2 to 3</td>\n",
       "      <td>108.990024</td>\n",
       "      <td>11697</td>\n",
       "      <td>203</td>\n",
       "    </tr>\n",
       "  </tbody>\n",
       "</table>\n",
       "</div>"
      ],
      "text/plain": [
       "                                       Campaign name       Ad set name  \\\n",
       "0  CV - Franchise Lead Generation - Phase II - 3 Nov       Remarketing   \n",
       "1  CV - Franchise Lead Generation - Phase II - 3 Nov  IT Professionals   \n",
       "2  CV - Franchise Lead Generation - Phase II - 3 Nov       Remarketing   \n",
       "3  CV - Franchise Lead Generation - Phase II - 3 Nov       Remarketing   \n",
       "4  CV - Franchise Lead Generation - Phase II - 3 Nov   Business Owners   \n",
       "\n",
       "                                     Ad name    Age Gender  Results  \\\n",
       "0               Image-Partner with us today!  25-34   male     23.0   \n",
       "1  Image-Minimum Investment & Maximum Profit  25-34   male     37.0   \n",
       "2               Image-Partner with us today!  18-24   male     26.0   \n",
       "3  Image-Minimum Investment & Maximum Profit  25-34   male     35.0   \n",
       "4  Image-Minimum Investment & Maximum Profit  25-34   male     19.0   \n",
       "\n",
       "   CTR (all)  Result rate  Amount spent (INR)  Cost per result Frequency  \\\n",
       "0   1.276185     0.116941         1834.360000        79.754783    3 to 4   \n",
       "1   1.911363     0.194287         1998.870000        54.023514    2 to 3   \n",
       "2   1.407616     0.192621         1142.540000        43.943846    3 to 4   \n",
       "3   2.858252     0.271845         1583.980000        45.256571    2 to 3   \n",
       "4   1.735488     0.162435         1274.856313        67.097701    2 to 3   \n",
       "\n",
       "   CPM (cost per 1,000 impressions)  Impressions  Clicks (all)  \n",
       "0                         93.266219        19668           251  \n",
       "1                        104.960618        19044           364  \n",
       "2                         84.645133        13498           190  \n",
       "3                        123.027573        12875           368  \n",
       "4                        108.990024        11697           203  "
      ]
     },
     "execution_count": 18,
     "metadata": {},
     "output_type": "execute_result"
    }
   ],
   "source": [
    "data.head()"
   ]
  },
  {
   "cell_type": "markdown",
   "metadata": {},
   "source": [
    "### 2. Split Ad name into Ad Format and Ad Headline"
   ]
  },
  {
   "cell_type": "code",
   "execution_count": 19,
   "metadata": {},
   "outputs": [],
   "source": [
    "data['Ad_name'] = data['Ad name']"
   ]
  },
  {
   "cell_type": "code",
   "execution_count": 20,
   "metadata": {},
   "outputs": [
    {
     "data": {
      "text/html": [
       "<div>\n",
       "<style scoped>\n",
       "    .dataframe tbody tr th:only-of-type {\n",
       "        vertical-align: middle;\n",
       "    }\n",
       "\n",
       "    .dataframe tbody tr th {\n",
       "        vertical-align: top;\n",
       "    }\n",
       "\n",
       "    .dataframe thead th {\n",
       "        text-align: right;\n",
       "    }\n",
       "</style>\n",
       "<table border=\"1\" class=\"dataframe\">\n",
       "  <thead>\n",
       "    <tr style=\"text-align: right;\">\n",
       "      <th></th>\n",
       "      <th>Campaign name</th>\n",
       "      <th>Ad set name</th>\n",
       "      <th>Ad name</th>\n",
       "      <th>Age</th>\n",
       "      <th>Gender</th>\n",
       "      <th>Results</th>\n",
       "      <th>CTR (all)</th>\n",
       "      <th>Result rate</th>\n",
       "      <th>Amount spent (INR)</th>\n",
       "      <th>Cost per result</th>\n",
       "      <th>Frequency</th>\n",
       "      <th>CPM (cost per 1,000 impressions)</th>\n",
       "      <th>Impressions</th>\n",
       "      <th>Clicks (all)</th>\n",
       "      <th>Ad_name</th>\n",
       "    </tr>\n",
       "  </thead>\n",
       "  <tbody>\n",
       "    <tr>\n",
       "      <th>0</th>\n",
       "      <td>CV - Franchise Lead Generation - Phase II - 3 Nov</td>\n",
       "      <td>Remarketing</td>\n",
       "      <td>Image-Partner with us today!</td>\n",
       "      <td>25-34</td>\n",
       "      <td>male</td>\n",
       "      <td>23.0</td>\n",
       "      <td>1.276185</td>\n",
       "      <td>0.116941</td>\n",
       "      <td>1834.360000</td>\n",
       "      <td>79.754783</td>\n",
       "      <td>3 to 4</td>\n",
       "      <td>93.266219</td>\n",
       "      <td>19668</td>\n",
       "      <td>251</td>\n",
       "      <td>Image-Partner with us today!</td>\n",
       "    </tr>\n",
       "    <tr>\n",
       "      <th>1</th>\n",
       "      <td>CV - Franchise Lead Generation - Phase II - 3 Nov</td>\n",
       "      <td>IT Professionals</td>\n",
       "      <td>Image-Minimum Investment &amp; Maximum Profit</td>\n",
       "      <td>25-34</td>\n",
       "      <td>male</td>\n",
       "      <td>37.0</td>\n",
       "      <td>1.911363</td>\n",
       "      <td>0.194287</td>\n",
       "      <td>1998.870000</td>\n",
       "      <td>54.023514</td>\n",
       "      <td>2 to 3</td>\n",
       "      <td>104.960618</td>\n",
       "      <td>19044</td>\n",
       "      <td>364</td>\n",
       "      <td>Image-Minimum Investment &amp; Maximum Profit</td>\n",
       "    </tr>\n",
       "    <tr>\n",
       "      <th>2</th>\n",
       "      <td>CV - Franchise Lead Generation - Phase II - 3 Nov</td>\n",
       "      <td>Remarketing</td>\n",
       "      <td>Image-Partner with us today!</td>\n",
       "      <td>18-24</td>\n",
       "      <td>male</td>\n",
       "      <td>26.0</td>\n",
       "      <td>1.407616</td>\n",
       "      <td>0.192621</td>\n",
       "      <td>1142.540000</td>\n",
       "      <td>43.943846</td>\n",
       "      <td>3 to 4</td>\n",
       "      <td>84.645133</td>\n",
       "      <td>13498</td>\n",
       "      <td>190</td>\n",
       "      <td>Image-Partner with us today!</td>\n",
       "    </tr>\n",
       "    <tr>\n",
       "      <th>3</th>\n",
       "      <td>CV - Franchise Lead Generation - Phase II - 3 Nov</td>\n",
       "      <td>Remarketing</td>\n",
       "      <td>Image-Minimum Investment &amp; Maximum Profit</td>\n",
       "      <td>25-34</td>\n",
       "      <td>male</td>\n",
       "      <td>35.0</td>\n",
       "      <td>2.858252</td>\n",
       "      <td>0.271845</td>\n",
       "      <td>1583.980000</td>\n",
       "      <td>45.256571</td>\n",
       "      <td>2 to 3</td>\n",
       "      <td>123.027573</td>\n",
       "      <td>12875</td>\n",
       "      <td>368</td>\n",
       "      <td>Image-Minimum Investment &amp; Maximum Profit</td>\n",
       "    </tr>\n",
       "    <tr>\n",
       "      <th>4</th>\n",
       "      <td>CV - Franchise Lead Generation - Phase II - 3 Nov</td>\n",
       "      <td>Business Owners</td>\n",
       "      <td>Image-Minimum Investment &amp; Maximum Profit</td>\n",
       "      <td>25-34</td>\n",
       "      <td>male</td>\n",
       "      <td>19.0</td>\n",
       "      <td>1.735488</td>\n",
       "      <td>0.162435</td>\n",
       "      <td>1274.856313</td>\n",
       "      <td>67.097701</td>\n",
       "      <td>2 to 3</td>\n",
       "      <td>108.990024</td>\n",
       "      <td>11697</td>\n",
       "      <td>203</td>\n",
       "      <td>Image-Minimum Investment &amp; Maximum Profit</td>\n",
       "    </tr>\n",
       "  </tbody>\n",
       "</table>\n",
       "</div>"
      ],
      "text/plain": [
       "                                       Campaign name       Ad set name  \\\n",
       "0  CV - Franchise Lead Generation - Phase II - 3 Nov       Remarketing   \n",
       "1  CV - Franchise Lead Generation - Phase II - 3 Nov  IT Professionals   \n",
       "2  CV - Franchise Lead Generation - Phase II - 3 Nov       Remarketing   \n",
       "3  CV - Franchise Lead Generation - Phase II - 3 Nov       Remarketing   \n",
       "4  CV - Franchise Lead Generation - Phase II - 3 Nov   Business Owners   \n",
       "\n",
       "                                     Ad name    Age Gender  Results  \\\n",
       "0               Image-Partner with us today!  25-34   male     23.0   \n",
       "1  Image-Minimum Investment & Maximum Profit  25-34   male     37.0   \n",
       "2               Image-Partner with us today!  18-24   male     26.0   \n",
       "3  Image-Minimum Investment & Maximum Profit  25-34   male     35.0   \n",
       "4  Image-Minimum Investment & Maximum Profit  25-34   male     19.0   \n",
       "\n",
       "   CTR (all)  Result rate  Amount spent (INR)  Cost per result Frequency  \\\n",
       "0   1.276185     0.116941         1834.360000        79.754783    3 to 4   \n",
       "1   1.911363     0.194287         1998.870000        54.023514    2 to 3   \n",
       "2   1.407616     0.192621         1142.540000        43.943846    3 to 4   \n",
       "3   2.858252     0.271845         1583.980000        45.256571    2 to 3   \n",
       "4   1.735488     0.162435         1274.856313        67.097701    2 to 3   \n",
       "\n",
       "   CPM (cost per 1,000 impressions)  Impressions  Clicks (all)  \\\n",
       "0                         93.266219        19668           251   \n",
       "1                        104.960618        19044           364   \n",
       "2                         84.645133        13498           190   \n",
       "3                        123.027573        12875           368   \n",
       "4                        108.990024        11697           203   \n",
       "\n",
       "                                     Ad_name  \n",
       "0               Image-Partner with us today!  \n",
       "1  Image-Minimum Investment & Maximum Profit  \n",
       "2               Image-Partner with us today!  \n",
       "3  Image-Minimum Investment & Maximum Profit  \n",
       "4  Image-Minimum Investment & Maximum Profit  "
      ]
     },
     "execution_count": 20,
     "metadata": {},
     "output_type": "execute_result"
    }
   ],
   "source": [
    "data.head()"
   ]
  },
  {
   "cell_type": "code",
   "execution_count": 21,
   "metadata": {
    "scrolled": false
   },
   "outputs": [],
   "source": [
    "data[['Ad Format','Ad Headline']] = data.Ad_name.str.split(\"-\", expand = True)"
   ]
  },
  {
   "cell_type": "code",
   "execution_count": 22,
   "metadata": {
    "scrolled": false
   },
   "outputs": [
    {
     "data": {
      "text/html": [
       "<div>\n",
       "<style scoped>\n",
       "    .dataframe tbody tr th:only-of-type {\n",
       "        vertical-align: middle;\n",
       "    }\n",
       "\n",
       "    .dataframe tbody tr th {\n",
       "        vertical-align: top;\n",
       "    }\n",
       "\n",
       "    .dataframe thead th {\n",
       "        text-align: right;\n",
       "    }\n",
       "</style>\n",
       "<table border=\"1\" class=\"dataframe\">\n",
       "  <thead>\n",
       "    <tr style=\"text-align: right;\">\n",
       "      <th></th>\n",
       "      <th>Campaign name</th>\n",
       "      <th>Ad set name</th>\n",
       "      <th>Ad name</th>\n",
       "      <th>Age</th>\n",
       "      <th>Gender</th>\n",
       "      <th>Results</th>\n",
       "      <th>CTR (all)</th>\n",
       "      <th>Result rate</th>\n",
       "      <th>Amount spent (INR)</th>\n",
       "      <th>Cost per result</th>\n",
       "      <th>Frequency</th>\n",
       "      <th>CPM (cost per 1,000 impressions)</th>\n",
       "      <th>Impressions</th>\n",
       "      <th>Clicks (all)</th>\n",
       "      <th>Ad_name</th>\n",
       "      <th>Ad Format</th>\n",
       "      <th>Ad Headline</th>\n",
       "    </tr>\n",
       "  </thead>\n",
       "  <tbody>\n",
       "    <tr>\n",
       "      <th>0</th>\n",
       "      <td>CV - Franchise Lead Generation - Phase II - 3 Nov</td>\n",
       "      <td>Remarketing</td>\n",
       "      <td>Image-Partner with us today!</td>\n",
       "      <td>25-34</td>\n",
       "      <td>male</td>\n",
       "      <td>23.0</td>\n",
       "      <td>1.276185</td>\n",
       "      <td>0.116941</td>\n",
       "      <td>1834.360000</td>\n",
       "      <td>79.754783</td>\n",
       "      <td>3 to 4</td>\n",
       "      <td>93.266219</td>\n",
       "      <td>19668</td>\n",
       "      <td>251</td>\n",
       "      <td>Image-Partner with us today!</td>\n",
       "      <td>Image</td>\n",
       "      <td>Partner with us today!</td>\n",
       "    </tr>\n",
       "    <tr>\n",
       "      <th>1</th>\n",
       "      <td>CV - Franchise Lead Generation - Phase II - 3 Nov</td>\n",
       "      <td>IT Professionals</td>\n",
       "      <td>Image-Minimum Investment &amp; Maximum Profit</td>\n",
       "      <td>25-34</td>\n",
       "      <td>male</td>\n",
       "      <td>37.0</td>\n",
       "      <td>1.911363</td>\n",
       "      <td>0.194287</td>\n",
       "      <td>1998.870000</td>\n",
       "      <td>54.023514</td>\n",
       "      <td>2 to 3</td>\n",
       "      <td>104.960618</td>\n",
       "      <td>19044</td>\n",
       "      <td>364</td>\n",
       "      <td>Image-Minimum Investment &amp; Maximum Profit</td>\n",
       "      <td>Image</td>\n",
       "      <td>Minimum Investment &amp; Maximum Profit</td>\n",
       "    </tr>\n",
       "    <tr>\n",
       "      <th>2</th>\n",
       "      <td>CV - Franchise Lead Generation - Phase II - 3 Nov</td>\n",
       "      <td>Remarketing</td>\n",
       "      <td>Image-Partner with us today!</td>\n",
       "      <td>18-24</td>\n",
       "      <td>male</td>\n",
       "      <td>26.0</td>\n",
       "      <td>1.407616</td>\n",
       "      <td>0.192621</td>\n",
       "      <td>1142.540000</td>\n",
       "      <td>43.943846</td>\n",
       "      <td>3 to 4</td>\n",
       "      <td>84.645133</td>\n",
       "      <td>13498</td>\n",
       "      <td>190</td>\n",
       "      <td>Image-Partner with us today!</td>\n",
       "      <td>Image</td>\n",
       "      <td>Partner with us today!</td>\n",
       "    </tr>\n",
       "    <tr>\n",
       "      <th>3</th>\n",
       "      <td>CV - Franchise Lead Generation - Phase II - 3 Nov</td>\n",
       "      <td>Remarketing</td>\n",
       "      <td>Image-Minimum Investment &amp; Maximum Profit</td>\n",
       "      <td>25-34</td>\n",
       "      <td>male</td>\n",
       "      <td>35.0</td>\n",
       "      <td>2.858252</td>\n",
       "      <td>0.271845</td>\n",
       "      <td>1583.980000</td>\n",
       "      <td>45.256571</td>\n",
       "      <td>2 to 3</td>\n",
       "      <td>123.027573</td>\n",
       "      <td>12875</td>\n",
       "      <td>368</td>\n",
       "      <td>Image-Minimum Investment &amp; Maximum Profit</td>\n",
       "      <td>Image</td>\n",
       "      <td>Minimum Investment &amp; Maximum Profit</td>\n",
       "    </tr>\n",
       "    <tr>\n",
       "      <th>4</th>\n",
       "      <td>CV - Franchise Lead Generation - Phase II - 3 Nov</td>\n",
       "      <td>Business Owners</td>\n",
       "      <td>Image-Minimum Investment &amp; Maximum Profit</td>\n",
       "      <td>25-34</td>\n",
       "      <td>male</td>\n",
       "      <td>19.0</td>\n",
       "      <td>1.735488</td>\n",
       "      <td>0.162435</td>\n",
       "      <td>1274.856313</td>\n",
       "      <td>67.097701</td>\n",
       "      <td>2 to 3</td>\n",
       "      <td>108.990024</td>\n",
       "      <td>11697</td>\n",
       "      <td>203</td>\n",
       "      <td>Image-Minimum Investment &amp; Maximum Profit</td>\n",
       "      <td>Image</td>\n",
       "      <td>Minimum Investment &amp; Maximum Profit</td>\n",
       "    </tr>\n",
       "  </tbody>\n",
       "</table>\n",
       "</div>"
      ],
      "text/plain": [
       "                                       Campaign name       Ad set name  \\\n",
       "0  CV - Franchise Lead Generation - Phase II - 3 Nov       Remarketing   \n",
       "1  CV - Franchise Lead Generation - Phase II - 3 Nov  IT Professionals   \n",
       "2  CV - Franchise Lead Generation - Phase II - 3 Nov       Remarketing   \n",
       "3  CV - Franchise Lead Generation - Phase II - 3 Nov       Remarketing   \n",
       "4  CV - Franchise Lead Generation - Phase II - 3 Nov   Business Owners   \n",
       "\n",
       "                                     Ad name    Age Gender  Results  \\\n",
       "0               Image-Partner with us today!  25-34   male     23.0   \n",
       "1  Image-Minimum Investment & Maximum Profit  25-34   male     37.0   \n",
       "2               Image-Partner with us today!  18-24   male     26.0   \n",
       "3  Image-Minimum Investment & Maximum Profit  25-34   male     35.0   \n",
       "4  Image-Minimum Investment & Maximum Profit  25-34   male     19.0   \n",
       "\n",
       "   CTR (all)  Result rate  Amount spent (INR)  Cost per result Frequency  \\\n",
       "0   1.276185     0.116941         1834.360000        79.754783    3 to 4   \n",
       "1   1.911363     0.194287         1998.870000        54.023514    2 to 3   \n",
       "2   1.407616     0.192621         1142.540000        43.943846    3 to 4   \n",
       "3   2.858252     0.271845         1583.980000        45.256571    2 to 3   \n",
       "4   1.735488     0.162435         1274.856313        67.097701    2 to 3   \n",
       "\n",
       "   CPM (cost per 1,000 impressions)  Impressions  Clicks (all)  \\\n",
       "0                         93.266219        19668           251   \n",
       "1                        104.960618        19044           364   \n",
       "2                         84.645133        13498           190   \n",
       "3                        123.027573        12875           368   \n",
       "4                        108.990024        11697           203   \n",
       "\n",
       "                                     Ad_name Ad Format  \\\n",
       "0               Image-Partner with us today!     Image   \n",
       "1  Image-Minimum Investment & Maximum Profit     Image   \n",
       "2               Image-Partner with us today!     Image   \n",
       "3  Image-Minimum Investment & Maximum Profit     Image   \n",
       "4  Image-Minimum Investment & Maximum Profit     Image   \n",
       "\n",
       "                           Ad Headline  \n",
       "0               Partner with us today!  \n",
       "1  Minimum Investment & Maximum Profit  \n",
       "2               Partner with us today!  \n",
       "3  Minimum Investment & Maximum Profit  \n",
       "4  Minimum Investment & Maximum Profit  "
      ]
     },
     "execution_count": 22,
     "metadata": {},
     "output_type": "execute_result"
    }
   ],
   "source": [
    "data.head()"
   ]
  },
  {
   "cell_type": "code",
   "execution_count": 23,
   "metadata": {},
   "outputs": [],
   "source": [
    "data.drop(['Ad name','Ad_name'],axis = 1, inplace = True)"
   ]
  },
  {
   "cell_type": "code",
   "execution_count": 24,
   "metadata": {},
   "outputs": [
    {
     "data": {
      "text/html": [
       "<div>\n",
       "<style scoped>\n",
       "    .dataframe tbody tr th:only-of-type {\n",
       "        vertical-align: middle;\n",
       "    }\n",
       "\n",
       "    .dataframe tbody tr th {\n",
       "        vertical-align: top;\n",
       "    }\n",
       "\n",
       "    .dataframe thead th {\n",
       "        text-align: right;\n",
       "    }\n",
       "</style>\n",
       "<table border=\"1\" class=\"dataframe\">\n",
       "  <thead>\n",
       "    <tr style=\"text-align: right;\">\n",
       "      <th></th>\n",
       "      <th>Campaign name</th>\n",
       "      <th>Ad set name</th>\n",
       "      <th>Age</th>\n",
       "      <th>Gender</th>\n",
       "      <th>Results</th>\n",
       "      <th>CTR (all)</th>\n",
       "      <th>Result rate</th>\n",
       "      <th>Amount spent (INR)</th>\n",
       "      <th>Cost per result</th>\n",
       "      <th>Frequency</th>\n",
       "      <th>CPM (cost per 1,000 impressions)</th>\n",
       "      <th>Impressions</th>\n",
       "      <th>Clicks (all)</th>\n",
       "      <th>Ad Format</th>\n",
       "      <th>Ad Headline</th>\n",
       "    </tr>\n",
       "  </thead>\n",
       "  <tbody>\n",
       "    <tr>\n",
       "      <th>0</th>\n",
       "      <td>CV - Franchise Lead Generation - Phase II - 3 Nov</td>\n",
       "      <td>Remarketing</td>\n",
       "      <td>25-34</td>\n",
       "      <td>male</td>\n",
       "      <td>23.0</td>\n",
       "      <td>1.276185</td>\n",
       "      <td>0.116941</td>\n",
       "      <td>1834.360000</td>\n",
       "      <td>79.754783</td>\n",
       "      <td>3 to 4</td>\n",
       "      <td>93.266219</td>\n",
       "      <td>19668</td>\n",
       "      <td>251</td>\n",
       "      <td>Image</td>\n",
       "      <td>Partner with us today!</td>\n",
       "    </tr>\n",
       "    <tr>\n",
       "      <th>1</th>\n",
       "      <td>CV - Franchise Lead Generation - Phase II - 3 Nov</td>\n",
       "      <td>IT Professionals</td>\n",
       "      <td>25-34</td>\n",
       "      <td>male</td>\n",
       "      <td>37.0</td>\n",
       "      <td>1.911363</td>\n",
       "      <td>0.194287</td>\n",
       "      <td>1998.870000</td>\n",
       "      <td>54.023514</td>\n",
       "      <td>2 to 3</td>\n",
       "      <td>104.960618</td>\n",
       "      <td>19044</td>\n",
       "      <td>364</td>\n",
       "      <td>Image</td>\n",
       "      <td>Minimum Investment &amp; Maximum Profit</td>\n",
       "    </tr>\n",
       "    <tr>\n",
       "      <th>2</th>\n",
       "      <td>CV - Franchise Lead Generation - Phase II - 3 Nov</td>\n",
       "      <td>Remarketing</td>\n",
       "      <td>18-24</td>\n",
       "      <td>male</td>\n",
       "      <td>26.0</td>\n",
       "      <td>1.407616</td>\n",
       "      <td>0.192621</td>\n",
       "      <td>1142.540000</td>\n",
       "      <td>43.943846</td>\n",
       "      <td>3 to 4</td>\n",
       "      <td>84.645133</td>\n",
       "      <td>13498</td>\n",
       "      <td>190</td>\n",
       "      <td>Image</td>\n",
       "      <td>Partner with us today!</td>\n",
       "    </tr>\n",
       "    <tr>\n",
       "      <th>3</th>\n",
       "      <td>CV - Franchise Lead Generation - Phase II - 3 Nov</td>\n",
       "      <td>Remarketing</td>\n",
       "      <td>25-34</td>\n",
       "      <td>male</td>\n",
       "      <td>35.0</td>\n",
       "      <td>2.858252</td>\n",
       "      <td>0.271845</td>\n",
       "      <td>1583.980000</td>\n",
       "      <td>45.256571</td>\n",
       "      <td>2 to 3</td>\n",
       "      <td>123.027573</td>\n",
       "      <td>12875</td>\n",
       "      <td>368</td>\n",
       "      <td>Image</td>\n",
       "      <td>Minimum Investment &amp; Maximum Profit</td>\n",
       "    </tr>\n",
       "    <tr>\n",
       "      <th>4</th>\n",
       "      <td>CV - Franchise Lead Generation - Phase II - 3 Nov</td>\n",
       "      <td>Business Owners</td>\n",
       "      <td>25-34</td>\n",
       "      <td>male</td>\n",
       "      <td>19.0</td>\n",
       "      <td>1.735488</td>\n",
       "      <td>0.162435</td>\n",
       "      <td>1274.856313</td>\n",
       "      <td>67.097701</td>\n",
       "      <td>2 to 3</td>\n",
       "      <td>108.990024</td>\n",
       "      <td>11697</td>\n",
       "      <td>203</td>\n",
       "      <td>Image</td>\n",
       "      <td>Minimum Investment &amp; Maximum Profit</td>\n",
       "    </tr>\n",
       "  </tbody>\n",
       "</table>\n",
       "</div>"
      ],
      "text/plain": [
       "                                       Campaign name       Ad set name    Age  \\\n",
       "0  CV - Franchise Lead Generation - Phase II - 3 Nov       Remarketing  25-34   \n",
       "1  CV - Franchise Lead Generation - Phase II - 3 Nov  IT Professionals  25-34   \n",
       "2  CV - Franchise Lead Generation - Phase II - 3 Nov       Remarketing  18-24   \n",
       "3  CV - Franchise Lead Generation - Phase II - 3 Nov       Remarketing  25-34   \n",
       "4  CV - Franchise Lead Generation - Phase II - 3 Nov   Business Owners  25-34   \n",
       "\n",
       "  Gender  Results  CTR (all)  Result rate  Amount spent (INR)  \\\n",
       "0   male     23.0   1.276185     0.116941         1834.360000   \n",
       "1   male     37.0   1.911363     0.194287         1998.870000   \n",
       "2   male     26.0   1.407616     0.192621         1142.540000   \n",
       "3   male     35.0   2.858252     0.271845         1583.980000   \n",
       "4   male     19.0   1.735488     0.162435         1274.856313   \n",
       "\n",
       "   Cost per result Frequency  CPM (cost per 1,000 impressions)  Impressions  \\\n",
       "0        79.754783    3 to 4                         93.266219        19668   \n",
       "1        54.023514    2 to 3                        104.960618        19044   \n",
       "2        43.943846    3 to 4                         84.645133        13498   \n",
       "3        45.256571    2 to 3                        123.027573        12875   \n",
       "4        67.097701    2 to 3                        108.990024        11697   \n",
       "\n",
       "   Clicks (all) Ad Format                          Ad Headline  \n",
       "0           251     Image               Partner with us today!  \n",
       "1           364     Image  Minimum Investment & Maximum Profit  \n",
       "2           190     Image               Partner with us today!  \n",
       "3           368     Image  Minimum Investment & Maximum Profit  \n",
       "4           203     Image  Minimum Investment & Maximum Profit  "
      ]
     },
     "execution_count": 24,
     "metadata": {},
     "output_type": "execute_result"
    }
   ],
   "source": [
    "data.head()"
   ]
  },
  {
   "cell_type": "markdown",
   "metadata": {},
   "source": [
    "### 3. Remove unknown from Gender"
   ]
  },
  {
   "cell_type": "code",
   "execution_count": 25,
   "metadata": {},
   "outputs": [
    {
     "data": {
      "text/plain": [
       "male       143\n",
       "female     140\n",
       "unknown     66\n",
       "Name: Gender, dtype: int64"
      ]
     },
     "execution_count": 25,
     "metadata": {},
     "output_type": "execute_result"
    }
   ],
   "source": [
    "data['Gender'].value_counts()"
   ]
  },
  {
   "cell_type": "code",
   "execution_count": 26,
   "metadata": {},
   "outputs": [],
   "source": [
    "data = data[data.Gender != 'unknown']"
   ]
  },
  {
   "cell_type": "code",
   "execution_count": 27,
   "metadata": {},
   "outputs": [
    {
     "data": {
      "text/plain": [
       "male      143\n",
       "female    140\n",
       "Name: Gender, dtype: int64"
      ]
     },
     "execution_count": 27,
     "metadata": {},
     "output_type": "execute_result"
    }
   ],
   "source": [
    "data['Gender'].value_counts()"
   ]
  },
  {
   "cell_type": "code",
   "execution_count": 28,
   "metadata": {},
   "outputs": [
    {
     "name": "stdout",
     "output_type": "stream",
     "text": [
      "<class 'pandas.core.frame.DataFrame'>\n",
      "Int64Index: 283 entries, 0 to 349\n",
      "Data columns (total 15 columns):\n",
      " #   Column                            Non-Null Count  Dtype  \n",
      "---  ------                            --------------  -----  \n",
      " 0   Campaign name                     283 non-null    object \n",
      " 1   Ad set name                       283 non-null    object \n",
      " 2   Age                               283 non-null    object \n",
      " 3   Gender                            283 non-null    object \n",
      " 4   Results                           283 non-null    float64\n",
      " 5   CTR (all)                         283 non-null    float64\n",
      " 6   Result rate                       283 non-null    float64\n",
      " 7   Amount spent (INR)                283 non-null    float64\n",
      " 8   Cost per result                   103 non-null    float64\n",
      " 9   Frequency                         283 non-null    object \n",
      " 10  CPM (cost per 1,000 impressions)  283 non-null    float64\n",
      " 11  Impressions                       283 non-null    int64  \n",
      " 12  Clicks (all)                      283 non-null    int64  \n",
      " 13  Ad Format                         283 non-null    object \n",
      " 14  Ad Headline                       283 non-null    object \n",
      "dtypes: float64(6), int64(2), object(7)\n",
      "memory usage: 35.4+ KB\n"
     ]
    }
   ],
   "source": [
    "data.info(verbose = 1)"
   ]
  },
  {
   "cell_type": "code",
   "execution_count": 29,
   "metadata": {},
   "outputs": [],
   "source": [
    "data.to_csv('Clean_Data_age_gender.csv',index = False)"
   ]
  },
  {
   "cell_type": "markdown",
   "metadata": {},
   "source": [
    "## Now our data is clean. Here are our features that we will use for analysis\n",
    "\n",
    "- **1. Campaign Name** - Name of campaign\n",
    "- **2. Ad Set Name** - Targeting\n",
    "- **3. Age** - Age of end user\n",
    "- **4. Gender** - Gender of end user\n",
    "- **5. Results** - How many conversions were achieved\n",
    "- **6. Cost per result** - Average Cost required for 1 conversion\n",
    "- **7. Amount spent** - How much money was spent on ad campaign\n",
    "- **8. CTR** - Click Through Rate\n",
    "- **9. CPM** - Cost per 1000 impressions\n",
    "- **10. Result Rate** - Conversion Rate\n",
    "- **11. Frequency** - On an average how many times did one user see the ad\n",
    "- **12. Ad Format** - Whether the ad crative is **Image/Video/Carousel**\n",
    "- **13. Ad Gender** - Gender of the person on creative\n",
    "- **14. Ad Headline** - The headline used in ad\n",
    "\n",
    "So, our target variable here is **Results** and we will analyse the effect of other variable on our target variable."
   ]
  },
  {
   "cell_type": "markdown",
   "metadata": {},
   "source": [
    "# 4. Relationship Visualization"
   ]
  },
  {
   "cell_type": "markdown",
   "metadata": {},
   "source": [
    "## 1. Effect of Ad Headline + Age + Gender on Engagement & Conversion"
   ]
  },
  {
   "cell_type": "markdown",
   "metadata": {},
   "source": [
    "### Generic View"
   ]
  },
  {
   "cell_type": "code",
   "execution_count": 33,
   "metadata": {},
   "outputs": [],
   "source": [
    "data = data.sort_values(by = ['Age']) "
   ]
  },
  {
   "cell_type": "code",
   "execution_count": 34,
   "metadata": {
    "scrolled": false
   },
   "outputs": [
    {
     "data": {
      "image/png": "[encoded data removed]",
      "text/plain": [
       "<Figure size 2160x504 with 6 Axes>"
      ]
     },
     "metadata": {
      "needs_background": "light"
     },
     "output_type": "display_data"
    }
   ],
   "source": [
    "# increase figure size \n",
    "plt.figure(figsize = (30, 7))\n",
    "\n",
    "# subplot 1\n",
    "plt.subplot(1, 6, 1)\n",
    "sns.barplot(y = 'Age', x = 'Amount spent (INR)', hue = 'Gender', data = data, estimator = np.sum, ci = None)\n",
    "plt.title(\"Total Amount Spent\")\n",
    "plt.xticks(rotation = 90)\n",
    "\n",
    "\n",
    "# subplot 2\n",
    "plt.subplot(1, 6, 2)\n",
    "sns.barplot(y = 'Age', x = 'Clicks (all)', hue = 'Gender', data = data, estimator = np.sum, ci = None)\n",
    "plt.title(\"Total Clicks\")\n",
    "plt.xticks(rotation = 90)\n",
    "\n",
    "# subplot 3\n",
    "plt.subplot(1, 6, 3)\n",
    "sns.barplot(y = 'Age', x = 'CTR (all)', hue = 'Gender', data = data, estimator = np.sum, ci = None)\n",
    "plt.title(\"CTR\")\n",
    "plt.xticks(rotation = 90)\n",
    "\n",
    "# subplot 4\n",
    "plt.subplot(1, 6, 4)\n",
    "sns.barplot(y = 'Age', x = 'Results', hue = 'Gender', data = data, estimator = np.sum, ci = None)\n",
    "plt.title(\"Total Conversions\")\n",
    "plt.xticks(rotation = 90)\n",
    "\n",
    "# subplot 5\n",
    "plt.subplot(1, 6, 5)\n",
    "sns.barplot(y = 'Age', x = 'Cost per result', hue = 'Gender', data = data, estimator = np.sum, ci = None)\n",
    "plt.title(\"Avg. Cost per Result\")\n",
    "plt.xticks(rotation = 90)\n",
    "\n",
    "# subplot 6\n",
    "plt.subplot(1,6, 6)\n",
    "sns.barplot(y = 'Age', x = 'Result rate', hue = 'Gender', data = data, estimator = np.sum, ci = None)\n",
    "plt.title(\"CVR\")\n",
    "plt.xticks(rotation = 90)\n",
    "\n",
    "\n",
    "plt.tight_layout(pad = 0.7)\n",
    "plt.show()"
   ]
  },
  {
   "cell_type": "markdown",
   "metadata": {},
   "source": [
    "### Let's Look at a Granular View"
   ]
  },
  {
   "cell_type": "code",
   "execution_count": 35,
   "metadata": {},
   "outputs": [
    {
     "data": {
      "text/plain": [
       "Text(0.5, 0.98, 'Avg. Click Through Rate (CTR) of Each Ad')"
      ]
     },
     "execution_count": 35,
     "metadata": {},
     "output_type": "execute_result"
    },
    {
     "data": {
      "image/png": "[encoded data removed]",
      "text/plain": [
       "<Figure size 2160x360 with 6 Axes>"
      ]
     },
     "metadata": {
      "needs_background": "light"
     },
     "output_type": "display_data"
    },
    {
     "data": {
      "image/png": "[encoded data removed]",
      "text/plain": [
       "<Figure size 2160x360 with 6 Axes>"
      ]
     },
     "metadata": {
      "needs_background": "light"
     },
     "output_type": "display_data"
    },
    {
     "data": {
      "image/png": "[encoded data removed]",
      "text/plain": [
       "<Figure size 2160x360 with 6 Axes>"
      ]
     },
     "metadata": {
      "needs_background": "light"
     },
     "output_type": "display_data"
    }
   ],
   "source": [
    "sns.catplot(y = 'Ad Headline', x = 'Amount spent (INR)', col = 'Age', data = data, kind = 'bar', estimator = np.sum, ci = None)\n",
    "plt.subplots_adjust(top = 0.85)\n",
    "plt.suptitle('Total Amount Spent on Each Ad', fontsize = 20)\n",
    "\n",
    "sns.catplot(y = 'Ad Headline', x = 'Clicks (all)', col = 'Age', data = data, kind = 'bar', estimator = np.sum, ci = None)\n",
    "plt.subplots_adjust(top = 0.85)\n",
    "plt.suptitle('Total Clicks on Each Ad', fontsize = 20)\n",
    "\n",
    "sns.catplot(y = 'Ad Headline', x = 'CTR (all)', col = 'Age', data = data, kind = 'bar', estimator = np.sum, ci = None)\n",
    "plt.subplots_adjust(top = 0.85)\n",
    "plt.suptitle('Avg. Click Through Rate (CTR) of Each Ad', fontsize = 20)"
   ]
  }
 ],
 "metadata": {
  "kernelspec": {
   "display_name": "Python 3",
   "language": "python",
   "name": "python3"
  },
  "language_info": {
   "codemirror_mode": {
    "name": "ipython",
    "version": 3
   },
   "file_extension": ".py",
   "mimetype": "text/x-python",
   "name": "python",
   "nbconvert_exporter": "python",
   "pygments_lexer": "ipython3",
   "version": "3.7.6"
  }
 },
 "nbformat": 4,
 "nbformat_minor": 2
}
